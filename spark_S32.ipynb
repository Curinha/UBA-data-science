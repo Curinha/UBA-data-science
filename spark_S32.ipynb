{
  "nbformat": 4,
  "nbformat_minor": 0,
  "metadata": {
    "colab": {
      "provenance": [],
      "authorship_tag": "ABX9TyM1s4qcFPRgy0CPeoylJTU1",
      "include_colab_link": true
    },
    "kernelspec": {
      "name": "python3",
      "display_name": "Python 3"
    },
    "language_info": {
      "name": "python"
    }
  },
  "cells": [
    {
      "cell_type": "markdown",
      "metadata": {
        "id": "view-in-github",
        "colab_type": "text"
      },
      "source": [
        "<a href=\"https://colab.research.google.com/github/aguscura/UBA-data-science/blob/main/spark_S32.ipynb\" target=\"_parent\"><img src=\"https://colab.research.google.com/assets/colab-badge.svg\" alt=\"Open In Colab\"/></a>"
      ]
    },
    {
      "cell_type": "markdown",
      "source": [
        "**S32:** Yelp tiene la teoría de que quienes hacen las reviews más útiles en la plataforma son aquellos usuarios con más antigüedad. Para probar está hipótesis para cada review consiga la suma total de sus votos (funny + cool + useful) y correlacionela con la antigüedad del usuario al momento de hacer la review. (3 PUNTOS).\n"
      ],
      "metadata": {
        "id": "_K45HHrIXACj"
      }
    },
    {
      "cell_type": "code",
      "source": [
        "# !pip install pyspark\n",
        "# !pip install -U -q PyDrive\n",
        "# !apt update\n",
        "# !apt install openjdk-8-jdk-headless -qq"
      ],
      "metadata": {
        "id": "-yBwh5lKXCTz",
        "colab": {
          "base_uri": "https://localhost:8080/"
        },
        "outputId": "d7549da0-1973-441b-eec3-eeb73e74285f"
      },
      "execution_count": 1,
      "outputs": [
        {
          "output_type": "stream",
          "name": "stdout",
          "text": [
            "Looking in indexes: https://pypi.org/simple, https://us-python.pkg.dev/colab-wheels/public/simple/\n",
            "Collecting pyspark\n",
            "  Downloading pyspark-3.3.0.tar.gz (281.3 MB)\n",
            "\u001b[K     |████████████████████████████████| 281.3 MB 33 kB/s \n",
            "\u001b[?25hCollecting py4j==0.10.9.5\n",
            "  Downloading py4j-0.10.9.5-py2.py3-none-any.whl (199 kB)\n",
            "\u001b[K     |████████████████████████████████| 199 kB 52.9 MB/s \n",
            "\u001b[?25hBuilding wheels for collected packages: pyspark\n",
            "  Building wheel for pyspark (setup.py) ... \u001b[?25l\u001b[?25hdone\n",
            "  Created wheel for pyspark: filename=pyspark-3.3.0-py2.py3-none-any.whl size=281764026 sha256=4dda6c456517e3991d8cc8b005c559b059b2da7d0042d723b30fe27314f06139\n",
            "  Stored in directory: /root/.cache/pip/wheels/7a/8e/1b/f73a52650d2e5f337708d9f6a1750d451a7349a867f928b885\n",
            "Successfully built pyspark\n",
            "Installing collected packages: py4j, pyspark\n",
            "Successfully installed py4j-0.10.9.5 pyspark-3.3.0\n"
          ]
        }
      ]
    },
    {
      "cell_type": "code",
      "source": [
        "from pydrive.auth import GoogleAuth\n",
        "from pydrive.drive import GoogleDrive\n",
        "from google.colab import auth\n",
        "from oauth2client.client import GoogleCredentials\n",
        "from pyspark.sql import *\n",
        "from pyspark.sql.functions import *\n",
        "from pyspark import SparkContext\n",
        "from pyspark.sql import SQLContext\n",
        "import pandas as pd\n",
        "from tqdm import tqdm\n",
        "from datetime import date\n",
        "from datetime import datetime, timedelta"
      ],
      "metadata": {
        "id": "fBeYfEjEe6ni"
      },
      "execution_count": 2,
      "outputs": []
    },
    {
      "cell_type": "code",
      "source": [
        "#Creamos el Spark Context\n",
        "spark = SparkSession.builder.getOrCreate()\n",
        "sc = spark.sparkContext"
      ],
      "metadata": {
        "id": "yN9s2RosgP4O"
      },
      "execution_count": 5,
      "outputs": []
    },
    {
      "cell_type": "markdown",
      "source": [
        "#**Reviews más utiles**"
      ],
      "metadata": {
        "id": "YeDZ_ptShUxP"
      }
    },
    {
      "cell_type": "code",
      "source": [
        "!gdown \"1okxCrPipVJmexBSVZ34kJlttw02-7kTX\""
      ],
      "metadata": {
        "id": "Doy6FxXvityg",
        "colab": {
          "base_uri": "https://localhost:8080/"
        },
        "outputId": "4100ae31-f4de-4a5d-f8bd-2c0273918c2d"
      },
      "execution_count": 3,
      "outputs": [
        {
          "output_type": "stream",
          "name": "stdout",
          "text": [
            "Downloading...\n",
            "From: https://drive.google.com/uc?id=1okxCrPipVJmexBSVZ34kJlttw02-7kTX\n",
            "To: /content/review.csv\n",
            "100% 2.43G/2.43G [01:08<00:00, 35.3MB/s]\n"
          ]
        }
      ]
    },
    {
      "cell_type": "markdown",
      "source": [
        "**Para el review.csv, no hago el pasaje a parquet porque no me da el RAM**"
      ],
      "metadata": {
        "id": "iLulX90XDkY1"
      }
    },
    {
      "cell_type": "code",
      "source": [
        "# df = pd.read_csv(\"/content/review.csv\")\n",
        "# df.columns"
      ],
      "metadata": {
        "colab": {
          "base_uri": "https://localhost:8080/"
        },
        "id": "qrTa17s3peC3",
        "outputId": "f60dc772-884c-427e-a2b9-96a9cd8cf2e9"
      },
      "execution_count": null,
      "outputs": [
        {
          "output_type": "execute_result",
          "data": {
            "text/plain": [
              "Index(['review_id', 'user_id', 'business_id', 'stars', 'useful', 'funny',\n",
              "       'cool', 'text', 'date'],\n",
              "      dtype='object')"
            ]
          },
          "metadata": {},
          "execution_count": 15
        },
        {
          "output_type": "execute_result",
          "data": {
            "text/plain": [
              "Index(['review_id', 'user_id', 'business_id', 'stars', 'useful', 'funny',\n",
              "       'cool', 'text', 'date'],\n",
              "      dtype='object')"
            ]
          },
          "metadata": {},
          "execution_count": 31
        }
      ]
    },
    {
      "cell_type": "code",
      "source": [
        "# df = pd.read_csv(\"/content/review.csv\", usecols=[\"user_id\",\"text\", \"date\"])\n",
        "# df.to_parquet(\"/content/review.parquet\")"
      ],
      "metadata": {
        "id": "BsplQPHisF8I"
      },
      "execution_count": null,
      "outputs": []
    },
    {
      "cell_type": "code",
      "source": [
        "#Leemos archivo parquet\n",
        "# sqlContext = SQLContext(sc)\n",
        "# rdd_2 = sqlContext.read.parquet('/content/review.parquet').rdd.repartition(2)"
      ],
      "metadata": {
        "id": "W9RtuHlqzCZJ"
      },
      "execution_count": null,
      "outputs": []
    },
    {
      "cell_type": "code",
      "source": [
        "sqlContext = SQLContext(sc)\n",
        "df = sqlContext.read.csv('/content/review.csv', header=True, inferSchema=True)\n",
        "rdd_2 = df.rdd"
      ],
      "metadata": {
        "colab": {
          "base_uri": "https://localhost:8080/"
        },
        "id": "xLttNuL5DbgT",
        "outputId": "b52307bc-26db-46e0-8bf6-e0a98151fff3"
      },
      "execution_count": 6,
      "outputs": [
        {
          "output_type": "stream",
          "name": "stderr",
          "text": [
            "/usr/local/lib/python3.7/dist-packages/pyspark/sql/context.py:114: FutureWarning: Deprecated in 3.0.0. Use SparkSession.builder.getOrCreate() instead.\n",
            "  FutureWarning,\n"
          ]
        }
      ]
    },
    {
      "cell_type": "code",
      "source": [
        "rdd_2.take(2)"
      ],
      "metadata": {
        "id": "PwayuHeRGPMH",
        "colab": {
          "base_uri": "https://localhost:8080/"
        },
        "outputId": "d313495c-963c-4671-d61c-23ee49c54946"
      },
      "execution_count": 21,
      "outputs": [
        {
          "output_type": "execute_result",
          "data": {
            "text/plain": [
              "[Row(review_id='KU_O5udG6zpxOg-VcAEodg', user_id='mh_-eMZ6K5RLWhZyISBhwA', business_id='XQfwVwDr-v0ZS3_CbbE5Xw', stars='3.0', useful='0.0', funny='0.0', cool='0.0', text=\"If you decide to eat here, just be aware it is going to take about 2 hours from beginning to end. We have tried it multiple times, because I want to like it! I have been to it's other locations in NJ and never had a bad experience. \", date=None),\n",
              " Row(review_id='The food is good', user_id=' but it takes a very long time to come out. The waitstaff is very young', business_id=' but usually pleasant. We have just had too many experiences where we spent way too long waiting. We usually opt for another diner or restaurant on the weekends', stars=' in order to be done quicker.\"', useful='2018-07-07 22:09:11', funny=None, cool=None, text=None, date=None)]"
            ]
          },
          "metadata": {},
          "execution_count": 21
        }
      ]
    },
    {
      "cell_type": "markdown",
      "source": [
        "**'useful' con cualquier cosa**\n",
        "\n",
        "![Screenshot from 2022-10-17 14-02-13.png](data:image/png;base64,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)"
      ],
      "metadata": {
        "id": "ZdnTmmpU5XLK"
      }
    },
    {
      "cell_type": "markdown",
      "source": [
        "Voy a buscar **para cada review** la suma total de sus votos (funny + cool + useful). Tengo que mantener el user_id como key para despues traerme la antiguedad.\n",
        "\n",
        "Los None los filtro. Podría reemplazarlos por cero, pero creo es más representativo filtrarlos (tal vez es una review muy buena pero que simplemente nadie le cargó puntaje)"
      ],
      "metadata": {
        "id": "7uyJ0I3HF79L"
      }
    },
    {
      "cell_type": "markdown",
      "source": [
        "**Obtengo**\n",
        "\n",
        "('user_id' , (votos, fecha de la review) )"
      ],
      "metadata": {
        "id": "zJOGtuV854px"
      }
    },
    {
      "cell_type": "code",
      "source": [
        "rdd_3 = rdd_2.filter(lambda x:  (x.funny != None)   and   (x.cool != None)  and   (x.useful != None) and (x.date != None) ) #Filtro None\n",
        "rdd_4 = rdd_3.filter(lambda x: len(x.funny)== 3 and len(x.cool) == 3  and len(x.useful) ==3 ) #Como hay otras cosas en los puntajes, filtro por len de string = 3 (Ej. 0.0)\n",
        "rdd_5 = rdd_4.filter(lambda x:  (len(x.date) == 19)  and   (\":\" in x.date) and  (\"-\" in x.date) and (\"/\" not in x.date) ) #Filtro solo fechas con formato ok\n",
        "rdd_5.filter(lambda x: \".\" in (x.funny and x.cool and x.useful) ).map(lambda x: (x.user_id, (float(x.funny) + float(x.cool) + float(x.useful), datetime.strptime(x.date, '%Y-%m-%d %H:%M:%S') ) )).take(10) #Me sigue trayendo strings de len 3 con cualquier cosa, filtro por \".\"\n"
      ],
      "metadata": {
        "id": "CAL8CXdqzybO",
        "colab": {
          "base_uri": "https://localhost:8080/"
        },
        "outputId": "63c0737e-5638-403f-ba74-0bfdb4edf478"
      },
      "execution_count": 64,
      "outputs": [
        {
          "output_type": "execute_result",
          "data": {
            "text/plain": [
              "[('bcjbaE6dDog4jkNY91ncLQ', (2.0, datetime.datetime(2017, 1, 14, 20, 54, 15))),\n",
              " ('Jha0USGDMefGFRLik_xFQg', (0.0, datetime.datetime(2017, 2, 19, 13, 32, 5))),\n",
              " ('QzCEzH3R7Z6erOGLr3t55Q', (2.0, datetime.datetime(2017, 5, 26, 13, 10, 24))),\n",
              " ('yFuE8SPF-d1GXJUWYgKtzg', (0.0, datetime.datetime(2017, 5, 13, 14, 15, 29))),\n",
              " ('qEEk0PuoH1dVa619t8fgpw', (0.0, datetime.datetime(2017, 9, 20, 16, 16, 47))),\n",
              " ('aFa96pz67TwOFu4Weq5Agg', (0.0, datetime.datetime(2018, 8, 23, 21, 39, 38))),\n",
              " ('iYY5Ii1LGpZCpXFkHlMefw', (0.0, datetime.datetime(2018, 4, 27, 23, 3, 21))),\n",
              " ('S7bjj-L07JuRr-tpX1UZLw', (0.0, datetime.datetime(2018, 7, 7, 20, 50, 12))),\n",
              " ('bHSoye7R5cL-LVWLxtaxMg', (2.0, datetime.datetime(2017, 9, 8, 23, 20, 19))),\n",
              " ('IMd3NQbclta91pFKk3AJZg', (0.0, datetime.datetime(2017, 4, 8, 0, 33, 11)))]"
            ]
          },
          "metadata": {},
          "execution_count": 64
        }
      ]
    },
    {
      "cell_type": "code",
      "source": [
        "rdd_6 = rdd_5.filter(lambda x: \".\" in (x.funny and x.cool and x.useful) ).map(lambda x: (x.user_id, (float(x.funny) + float(x.cool) + float(x.useful), datetime.strptime(x.date, '%Y-%m-%d %H:%M:%S') ) ))"
      ],
      "metadata": {
        "id": "lOI6QVgD70jV"
      },
      "execution_count": 65,
      "outputs": []
    },
    {
      "cell_type": "markdown",
      "source": [
        "# Busco antiguedad del usuario **al momento de hacer la review**"
      ],
      "metadata": {
        "id": "CGzQ8fJjiVSS"
      }
    },
    {
      "cell_type": "code",
      "source": [
        "!gdown \"1owjSBHKLx0pJMdQYtKUIfiXqBV3lfCdS\""
      ],
      "metadata": {
        "colab": {
          "base_uri": "https://localhost:8080/"
        },
        "id": "neyILnRi6Tz2",
        "outputId": "359d8d1d-b84b-4429-de61-bb8e6bbe78f5"
      },
      "execution_count": 28,
      "outputs": [
        {
          "output_type": "stream",
          "name": "stdout",
          "text": [
            "Downloading...\n",
            "From: https://drive.google.com/uc?id=1owjSBHKLx0pJMdQYtKUIfiXqBV3lfCdS\n",
            "To: /content/user.csv\n",
            "100% 2.71G/2.71G [00:17<00:00, 156MB/s]\n"
          ]
        }
      ]
    },
    {
      "cell_type": "code",
      "source": [
        "#Chequeo columnas del df\n",
        "df = pd.read_csv(\"/content/user.csv\")\n",
        "df.columns"
      ],
      "metadata": {
        "colab": {
          "base_uri": "https://localhost:8080/"
        },
        "id": "I9p8JeIL6O_m",
        "outputId": "af40e2f7-a28f-4c89-dfb7-5004237d256c"
      },
      "execution_count": 29,
      "outputs": [
        {
          "output_type": "execute_result",
          "data": {
            "text/plain": [
              "Index(['user_id', 'name', 'review_count', 'yelping_since', 'useful', 'funny',\n",
              "       'cool', 'elite', 'friends', 'fans', 'average_stars', 'compliment_hot',\n",
              "       'compliment_more', 'compliment_profile', 'compliment_cute',\n",
              "       'compliment_list', 'compliment_note', 'compliment_plain',\n",
              "       'compliment_cool', 'compliment_funny', 'compliment_writer',\n",
              "       'compliment_photos'],\n",
              "      dtype='object')"
            ]
          },
          "metadata": {},
          "execution_count": 29
        }
      ]
    },
    {
      "cell_type": "markdown",
      "source": [
        "Paso el csv a parquet. Por un tema de RAM solo me traigo algunas columnas"
      ],
      "metadata": {
        "id": "YZumy6IZ4dIK"
      }
    },
    {
      "cell_type": "code",
      "source": [
        "#Paso a parquet. Acá solo tomo algunas columnas por el RAM\n",
        "df = pd.read_csv(\"/content/user.csv\", usecols=[\"user_id\", \"yelping_since\"])\n",
        "df.to_parquet(\"/content/user.parquet\")"
      ],
      "metadata": {
        "id": "51_h1m4U6JZX"
      },
      "execution_count": 30,
      "outputs": []
    },
    {
      "cell_type": "code",
      "source": [
        "#Leemos archivo parquet\n",
        "sqlContext = SQLContext(sc)\n",
        "rdd = sqlContext.read.parquet('/content/user.parquet').rdd.repartition(2)"
      ],
      "metadata": {
        "colab": {
          "base_uri": "https://localhost:8080/"
        },
        "id": "A5OMN2mp6el9",
        "outputId": "b117e6e6-fd76-4704-8799-fdd9c7826358"
      },
      "execution_count": 69,
      "outputs": [
        {
          "output_type": "stream",
          "name": "stderr",
          "text": [
            "/usr/local/lib/python3.7/dist-packages/pyspark/sql/context.py:114: FutureWarning: Deprecated in 3.0.0. Use SparkSession.builder.getOrCreate() instead.\n",
            "  FutureWarning,\n"
          ]
        }
      ]
    },
    {
      "cell_type": "code",
      "source": [
        "rdd.take(5)"
      ],
      "metadata": {
        "colab": {
          "base_uri": "https://localhost:8080/"
        },
        "id": "6tmjt3o59LMC",
        "outputId": "269b1c06-4402-4f73-b6d5-76f474ef5018"
      },
      "execution_count": 70,
      "outputs": [
        {
          "output_type": "execute_result",
          "data": {
            "text/plain": [
              "[Row(user_id='qVc8ODYU5SZjKXVBgXdI7w', yelping_since='2007-01-25 16:47:26'),\n",
              " Row(user_id='j14WgRoU_-2ZE1aw1dXrJg', yelping_since='2009-01-25 04:35:42'),\n",
              " Row(user_id='2WnXYQFK0hXEoTxPtV2zvg', yelping_since='2008-07-25 10:41:00'),\n",
              " Row(user_id='SZDeASXq7o05mMNLshsdIA', yelping_since='2005-11-29 04:38:33'),\n",
              " Row(user_id='hA5lMy-EnncsH4JoR-hFGQ', yelping_since='2007-01-05 19:40:59')]"
            ]
          },
          "metadata": {},
          "execution_count": 70
        }
      ]
    },
    {
      "cell_type": "code",
      "source": [
        "rdd.filter(lambda x:  (len(x.yelping_since) == 19)  and   (\":\" in x.yelping_since) and  (\"-\" in x.yelping_since) ).map(lambda x: (x.user_id, datetime.strptime(x.yelping_since, '%Y-%m-%d %H:%M:%S'))).take(5)"
      ],
      "metadata": {
        "colab": {
          "base_uri": "https://localhost:8080/"
        },
        "id": "5kaXDD2P7gef",
        "outputId": "1390ab55-a860-46bc-82f6-a9e4c7262ab0"
      },
      "execution_count": 71,
      "outputs": [
        {
          "output_type": "execute_result",
          "data": {
            "text/plain": [
              "[('qVc8ODYU5SZjKXVBgXdI7w', datetime.datetime(2007, 1, 25, 16, 47, 26)),\n",
              " ('j14WgRoU_-2ZE1aw1dXrJg', datetime.datetime(2009, 1, 25, 4, 35, 42)),\n",
              " ('2WnXYQFK0hXEoTxPtV2zvg', datetime.datetime(2008, 7, 25, 10, 41)),\n",
              " ('SZDeASXq7o05mMNLshsdIA', datetime.datetime(2005, 11, 29, 4, 38, 33)),\n",
              " ('hA5lMy-EnncsH4JoR-hFGQ', datetime.datetime(2007, 1, 5, 19, 40, 59))]"
            ]
          },
          "metadata": {},
          "execution_count": 71
        }
      ]
    },
    {
      "cell_type": "code",
      "source": [
        "rdd = rdd.filter(lambda x:  (len(x.yelping_since) == 19)  and   (\":\" in x.yelping_since) and  (\"-\" in x.yelping_since) ).map(lambda x: (x.user_id, datetime.strptime(x.yelping_since, '%Y-%m-%d %H:%M:%S')))"
      ],
      "metadata": {
        "id": "j3Ak3Slr9jUb"
      },
      "execution_count": 72,
      "outputs": []
    },
    {
      "cell_type": "markdown",
      "source": [
        "**rdd_final**\n",
        "\n",
        "( user_id , ( fecha de creación de cuenta ,   (puntos totales review,   fecha review )                                 )"
      ],
      "metadata": {
        "id": "x4Ay19ts77jR"
      }
    },
    {
      "cell_type": "markdown",
      "source": [
        "Hago el Join. Todavia no hay reduce. O sea que puede haber varias líneas con el mismo user. Para cada review, habra una línea con el user, la fecha de creación de ese user y la fecha de la review."
      ],
      "metadata": {
        "id": "1G-SW4AT91Jc"
      }
    },
    {
      "cell_type": "code",
      "source": [
        "rdd_final = rdd.join(rdd_6)\n",
        "rdd_final.take(5)"
      ],
      "metadata": {
        "colab": {
          "base_uri": "https://localhost:8080/"
        },
        "id": "5leyw6jI7TCs",
        "outputId": "bb6b695a-a913-4ad8-95a9-6793b7485d72"
      },
      "execution_count": 74,
      "outputs": [
        {
          "output_type": "execute_result",
          "data": {
            "text/plain": [
              "[('MPQ5-SkAcPW5_uLn-7_jCw',\n",
              "  (datetime.datetime(2009, 3, 16, 18, 16, 41),\n",
              "   (3.0, datetime.datetime(2018, 10, 2, 23, 41, 10)))),\n",
              " ('JVHAFY5ijpGyyCtJb6NPcg',\n",
              "  (datetime.datetime(2010, 8, 13, 18, 59, 54),\n",
              "   (0.0, datetime.datetime(2018, 6, 12, 3, 42, 6)))),\n",
              " ('JVHAFY5ijpGyyCtJb6NPcg',\n",
              "  (datetime.datetime(2010, 8, 13, 18, 59, 54),\n",
              "   (0.0, datetime.datetime(2018, 6, 12, 3, 51, 14)))),\n",
              " ('JVHAFY5ijpGyyCtJb6NPcg',\n",
              "  (datetime.datetime(2010, 8, 13, 18, 59, 54),\n",
              "   (1.0, datetime.datetime(2018, 7, 20, 18, 12, 26)))),\n",
              " ('JVHAFY5ijpGyyCtJb6NPcg',\n",
              "  (datetime.datetime(2010, 8, 13, 18, 59, 54),\n",
              "   (0.0, datetime.datetime(2021, 5, 23, 18, 10, 16))))]"
            ]
          },
          "metadata": {},
          "execution_count": 74
        }
      ]
    },
    {
      "cell_type": "code",
      "source": [
        "#Puntos\n",
        "rdd_final.map(lambda x:  x[1][1][0]).take(5)"
      ],
      "metadata": {
        "colab": {
          "base_uri": "https://localhost:8080/"
        },
        "id": "s6cACempH9s1",
        "outputId": "27e40a8d-7901-4414-900e-5fe7b08aeb01"
      },
      "execution_count": 87,
      "outputs": [
        {
          "output_type": "execute_result",
          "data": {
            "text/plain": [
              "[3.0, 0.0, 0.0, 1.0, 0.0]"
            ]
          },
          "metadata": {},
          "execution_count": 87
        }
      ]
    },
    {
      "cell_type": "code",
      "source": [
        "#Días de antiguedad de la cuenta\n",
        "rdd_final.map(lambda x: (x[1][1][1] - x[1][0]).days).take(5)"
      ],
      "metadata": {
        "colab": {
          "base_uri": "https://localhost:8080/"
        },
        "id": "KjTfcxQsIA8B",
        "outputId": "11d16086-1270-4bfd-9642-4448524137b0"
      },
      "execution_count": 90,
      "outputs": [
        {
          "output_type": "execute_result",
          "data": {
            "text/plain": [
              "[3487, 2859, 2859, 2897, 3935]"
            ]
          },
          "metadata": {},
          "execution_count": 90
        }
      ]
    },
    {
      "cell_type": "code",
      "source": [
        "points = rdd_final.map(lambda x:  x[1][1][0])\n",
        "days = rdd_final.map(lambda x: (x[1][1][1] - x[1][0]).days)"
      ],
      "metadata": {
        "id": "6JtTeyrfDQAC"
      },
      "execution_count": 89,
      "outputs": []
    },
    {
      "cell_type": "code",
      "source": [
        "from pyspark.mllib.stat import Statistics\n",
        "\n",
        "print(\"Correlation is: \" + str(Statistics.corr(points, days, method=\"pearson\")))\n"
      ],
      "metadata": {
        "colab": {
          "base_uri": "https://localhost:8080/"
        },
        "id": "3QNp5p58GnBq",
        "outputId": "9005563b-4f0a-4c13-9c4f-8edba61e7bbb"
      },
      "execution_count": 86,
      "outputs": [
        {
          "output_type": "stream",
          "name": "stdout",
          "text": [
            "Correlation is: 0.1064650490647836\n"
          ]
        }
      ]
    },
    {
      "cell_type": "markdown",
      "source": [
        "Demasiado baja... raro. Calculo de otra forma"
      ],
      "metadata": {
        "id": "yFg-Jae4IZjo"
      }
    },
    {
      "cell_type": "code",
      "source": [
        "rdd_corr = rdd_final.map(lambda x: [ x[1][1][0] ,  (x[1][1][1] - x[1][0]).days] )\n",
        "rdd_corr.take(15)"
      ],
      "metadata": {
        "colab": {
          "base_uri": "https://localhost:8080/"
        },
        "id": "hJjMXfb7IcjU",
        "outputId": "1140ae9d-8073-47f7-d9da-198c3cbc34e1"
      },
      "execution_count": 92,
      "outputs": [
        {
          "output_type": "execute_result",
          "data": {
            "text/plain": [
              "[[3.0, 3487],\n",
              " [0.0, 2859],\n",
              " [0.0, 2859],\n",
              " [1.0, 2897],\n",
              " [0.0, 3935],\n",
              " [0.0, 2897],\n",
              " [1.0, 2859],\n",
              " [0.0, 3600],\n",
              " [3.0, 2541],\n",
              " [4.0, 3250],\n",
              " [1.0, 3571],\n",
              " [2.0, 5056],\n",
              " [7.0, 4399],\n",
              " [3.0, 2887],\n",
              " [8.0, 3926]]"
            ]
          },
          "metadata": {},
          "execution_count": 92
        }
      ]
    },
    {
      "cell_type": "code",
      "source": [
        "print(Statistics.corr(rdd_corr, method=\"pearson\"))"
      ],
      "metadata": {
        "colab": {
          "base_uri": "https://localhost:8080/"
        },
        "id": "O98GMGwZItpJ",
        "outputId": "121afae8-25d3-487c-aab2-d0a51b0125b1"
      },
      "execution_count": 93,
      "outputs": [
        {
          "output_type": "stream",
          "name": "stdout",
          "text": [
            "[[1.         0.10646505]\n",
            " [0.10646505 1.        ]]\n"
          ]
        }
      ]
    },
    {
      "cell_type": "markdown",
      "source": [
        "**Practicamente no hay relación (~0) entre la positividad de las reviews y la antiguedad del usuario al momento de hacer la review.**"
      ],
      "metadata": {
        "id": "XA_r2BQDJOfL"
      }
    }
  ]
}