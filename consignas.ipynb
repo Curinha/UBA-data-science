{
  "nbformat": 4,
  "nbformat_minor": 0,
  "metadata": {
    "colab": {
      "provenance": [],
      "authorship_tag": "ABX9TyMIVkOrbP41FWVHC1FZ3cZj",
      "include_colab_link": true
    },
    "kernelspec": {
      "name": "python3",
      "display_name": "Python 3"
    },
    "language_info": {
      "name": "python"
    }
  },
  "cells": [
    {
      "cell_type": "markdown",
      "metadata": {
        "id": "view-in-github",
        "colab_type": "text"
      },
      "source": [
        "<a href=\"https://colab.research.google.com/github/aguscura/UBA-data-science/blob/main/consignas.ipynb\" target=\"_parent\"><img src=\"https://colab.research.google.com/assets/colab-badge.svg\" alt=\"Open In Colab\"/></a>"
      ]
    },
    {
      "cell_type": "markdown",
      "source": [
        "# PRIMERA PARTE"
      ],
      "metadata": {
        "id": "ukbWcFgeN5ga"
      }
    },
    {
      "cell_type": "code",
      "execution_count": 1,
      "metadata": {
        "colab": {
          "base_uri": "https://localhost:8080/"
        },
        "id": "yslQfopSLTLK",
        "outputId": "84b1eb84-2996-4268-c228-477ae1dfda2f"
      },
      "outputs": [
        {
          "output_type": "stream",
          "name": "stdout",
          "text": [
            "{'C3', 'N8', 'P20', 'P3', 'V8', 'N6', 'P30'}\n"
          ]
        }
      ],
      "source": [
        "import random\n",
        "\n",
        "EMAIL = \"aguscura9@gmail.com\"\n",
        "\n",
        "dif1 = [f\"P{i}\" for i in range(1,8)] + [f\"N{i}\" for i in range(1,2)] + [f\"C{i}\" for i in range(1,2)] + [f\"V{i}\" for i in range(1,2)]\n",
        "\n",
        "dif2 = [f\"P{i}\" for i in range(8,28)] + [f\"N{i}\" for i in range(2,7)] + [f\"C{i}\" for i in range(2,4)] + [f\"V{i}\" for i in range(2,9)]\n",
        "\n",
        "dif3 = [f\"P{i}\" for i in range(28,34)] + [f\"N{i}\" for i in range(7,9)] + [f\"C{i}\" for i in range(4,9)] + [f\"V{i}\" for i in range(9,11)]\n",
        "\n",
        "dificultad_ejs = {1: set(dif1), 2: set(dif2), 3: set(dif3)}\n",
        "\n",
        "ejercicios = set()\n",
        "\n",
        "random.seed(hash(EMAIL))\n",
        "\n",
        "for dif in [1,2,2,2,2,3,3]:\n",
        "    opciones_preliminares = dificultad_ejs[dif]\n",
        "    if len(ejercicios)>=3:\n",
        "        opciones_preliminares = set()\n",
        "        used_types = set([e[0] for e in ejercicios])\n",
        "        if \"N\" in used_types and \"P\" in used_types and \"V\" in used_types and \"C\" in used_types:\n",
        "            opciones_preliminares = dificultad_ejs[dif]\n",
        "        else:\n",
        "            for t in [\"N\", \"P\", \"C\", \"V\"]:\n",
        "                if t not in used_types:\n",
        "                    opciones_preliminares.update([e for e in dificultad_ejs[dif] if e[0]==t])\n",
        "    opciones = opciones_preliminares-ejercicios\n",
        "    elegido = random.choice(list(opciones))\n",
        "    ejercicios.add(elegido)\n",
        "\n",
        "print(ejercicios)"
      ]
    },
    {
      "cell_type": "code",
      "source": [
        "\"P3\" #1\n",
        "\"\"\"Para el promedio de stars por cada ciudad, ¿cuáles son los 5 promedios más comunes?\"\"\""
      ],
      "metadata": {
        "id": "XZf9CI8_MGY7"
      },
      "execution_count": null,
      "outputs": []
    },
    {
      "cell_type": "code",
      "source": [
        "\"P20\" #2\n",
        "\"\"\"Buscar la distancia mínima que existe entre dos locales de McDonald ‘s en el estado de LA (que no comparten dirección). \n",
        "¿Cuál es la distancia?¿A qué ciudad/es pertenecen? \n",
        "¿Cuáles son las direcciones de los locales?\"\"\""
      ],
      "metadata": {
        "id": "UVw8S_vhL9vA"
      },
      "execution_count": null,
      "outputs": []
    },
    {
      "cell_type": "code",
      "source": [
        "\"C3\" #2\n",
        "\"\"\"Utilizando la declaración universal de los derechos humanos en español y portugues y utilizando la distancia normalizada de compresión, encuentre una review en español \n",
        "y otra en portugues (puede tomar un sample siempre y cuando sea capaz de encontrar eso en el sample).\"\"\""
      ],
      "metadata": {
        "id": "d3MLM8kpLlwn"
      },
      "execution_count": null,
      "outputs": []
    },
    {
      "cell_type": "code",
      "source": [
        "\"N8\" #3\n",
        "\"\"\"Queremos crear nuestro propio clasificador de reviews según sean positivas o negativas usando los datos de yelp, para hacer esto vamos a hacer una cosa muy sencilla: \n",
        "asignarle a cada palabra de las 500 más comunes sin contar stopwords el promedio de las stars para las reviews en las que aparece, luego, cuando aparezca un nuevo texto para las \n",
        "palabras que conozcamos del mismo promediamos sus scores. Por ejemplo, si tenemos las palabras “buena” con polaridad 3.4 y “rica” con polaridad 4.3 y tenemos el texto “buena y rica” \n",
        "su predicción será 3.85. Puede usar una muestra para entrenar. ¿Cuál es la salida del predictor para “I loved this place, the food was amazing!”?\"\"\""
      ],
      "metadata": {
        "id": "YDTv2RNPLzRU"
      },
      "execution_count": null,
      "outputs": []
    },
    {
      "cell_type": "code",
      "source": [
        "\"V8\" #2\n"
      ],
      "metadata": {
        "id": "JL6DtBuYMLwH"
      },
      "execution_count": null,
      "outputs": []
    },
    {
      "cell_type": "markdown",
      "source": [
        "\"V8\"\n",
        "![10.png](data:image/png;base64,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)"
      ],
      "metadata": {
        "id": "F96a-VIjMYua"
      }
    },
    {
      "cell_type": "code",
      "source": [
        "\"N6\" #2\n",
        "\"\"\"Uno de los mayores problemas de las reviews es que los usuarios tienen distintas escalas en puntaje para las mismas experiencias, entonces las estrellas que suele dejar \n",
        "un usuario no son comparables con las otro. Para normalizar un poco más esto, Yelp quiere que el usuario primero escriba el texto y según qué tan positivo o negativo sea sugerirle \n",
        "la cantidad de estrellas a dejar. vaderSentiment y textblob de python son dos librerías para analizar sentimientos, ambas pueden darnos un score de que tan positivo o negativo es el \n",
        "sentimiento de un texto. Para los textos reviews, cuál de los dos scores de emoción mejor correlaciona con el puntaje que esa review deja?\"\"\""
      ],
      "metadata": {
        "id": "W93ztkA2MiNa"
      },
      "execution_count": null,
      "outputs": []
    },
    {
      "cell_type": "code",
      "source": [
        "\"P30\"#3\n",
        "\"\"\"Según la paradoja de la amistad, en redes sociales, tus amigos suelen tener en promedio más amigos que vos :(. \n",
        "Calcule el promedio de amigos que tiene cada usuario y el promedio de amigos que tienen los amigos de cada usuario.\"\"\""
      ],
      "metadata": {
        "id": "GHk1QZsrMqie"
      },
      "execution_count": null,
      "outputs": []
    },
    {
      "cell_type": "markdown",
      "source": [
        "# SEGUNDA PARTE"
      ],
      "metadata": {
        "id": "y_F4wmkoN8r2"
      }
    },
    {
      "cell_type": "code",
      "source": [],
      "metadata": {
        "id": "aOKXMmWYN-u2"
      },
      "execution_count": null,
      "outputs": []
    }
  ]
}