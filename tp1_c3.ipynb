{
  "cells": [
    {
      "cell_type": "markdown",
      "metadata": {
        "id": "view-in-github",
        "colab_type": "text"
      },
      "source": [
        "<a href=\"https://colab.research.google.com/github/aguscura/UBA-data-science/blob/main/tp1_c3.ipynb\" target=\"_parent\"><img src=\"https://colab.research.google.com/assets/colab-badge.svg\" alt=\"Open In Colab\"/></a>"
      ]
    },
    {
      "cell_type": "markdown",
      "source": [
        "# IMPORTANTE\n",
        "\n",
        "**Obviamente me mapea reviews escritas en ingles a \"portugues\" o \"español\", porque no le \"enseñé\" un texto en ingles. Se me complica conseguir las reviews, no encuentro scores bajos cercanos a cero. Agrego texto en ingles y tampoco logro encontrar la solucion. Tome distintos samples y en ningun caso logro resolver.**"
      ],
      "metadata": {
        "id": "zY-yJ27u9svD"
      },
      "id": "zY-yJ27u9svD"
    },
    {
      "cell_type": "code",
      "source": [
        "# from google.colab import files\n",
        "# files.upload()"
      ],
      "metadata": {
        "id": "hxNCRXU1fDJv"
      },
      "id": "hxNCRXU1fDJv",
      "execution_count": 127,
      "outputs": []
    },
    {
      "cell_type": "code",
      "source": [
        "import PyPDF2\n",
        "import re\n",
        "\n",
        "pdfFileObj = open('/content/spn.pdf', 'rb')\n",
        "pdfReader = PyPDF2.PdfFileReader(pdfFileObj)\n",
        "\n",
        "esp_text = \"\"\n",
        "\n",
        "for i in range (0,pdfReader.numPages):\n",
        "  \n",
        "  page = pdfReader.getPage(i)\n",
        "  esp_text += page.extractText()\n",
        "\n",
        "esp_list = re.split('\\n',esp_text)\n",
        "esp_list[1]\n"
      ],
      "metadata": {
        "colab": {
          "base_uri": "https://localhost:8080/",
          "height": 36
        },
        "id": "RAfQGf1NlOtv",
        "outputId": "0c286fc7-e2d4-4ad7-b92b-60721f6d876c"
      },
      "id": "RAfQGf1NlOtv",
      "execution_count": 128,
      "outputs": [
        {
          "output_type": "execute_result",
          "data": {
            "text/plain": [
              "'Declaración Universal de Derechos Humanos '"
            ],
            "application/vnd.google.colaboratory.intrinsic+json": {
              "type": "string"
            }
          },
          "metadata": {},
          "execution_count": 128
        }
      ]
    },
    {
      "cell_type": "code",
      "source": [
        "pdfFileObj = open('/content/declaracion portugues.pdf', 'rb')\n",
        "pdfReader = PyPDF2.PdfFileReader(pdfFileObj)\n",
        "\n",
        "por_text = \"\"\n",
        "\n",
        "for i in range (0,pdfReader.numPages):\n",
        "  \n",
        "  page = pdfReader.getPage(i)\n",
        "  por_text += page.extractText()\n",
        "\n",
        "por_list = re.split('\\n',por_text)\n",
        "por_list[6]\n"
      ],
      "metadata": {
        "colab": {
          "base_uri": "https://localhost:8080/",
          "height": 55
        },
        "id": "NDDYOJNdoD6-",
        "outputId": "8a42132c-45bb-4cea-e8d1-f4ecc10e2508"
      },
      "id": "NDDYOJNdoD6-",
      "execution_count": 129,
      "outputs": [
        {
          "output_type": "stream",
          "name": "stderr",
          "text": [
            "WARNING:PyPDF2._reader:Xref table not zero-indexed. ID numbers for objects will be corrected.\n"
          ]
        },
        {
          "output_type": "execute_result",
          "data": {
            "text/plain": [
              "'Todos os seres humanos nascem livres e iguais em dignidade e em direitos. Dotados de razão e de consciência, devem agir uns para com os outros em espírito de fraternidade.  '"
            ],
            "application/vnd.google.colaboratory.intrinsic+json": {
              "type": "string"
            }
          },
          "metadata": {},
          "execution_count": 129
        }
      ]
    },
    {
      "cell_type": "code",
      "source": [
        "pdfFileObj = open('/content/english.pdf', 'rb')\n",
        "pdfReader = PyPDF2.PdfFileReader(pdfFileObj)\n",
        "\n",
        "en_text = \"\"\n",
        "\n",
        "for i in range (0,pdfReader.numPages):\n",
        "  \n",
        "  page = pdfReader.getPage(i)\n",
        "  en_text += page.extractText()\n",
        "\n",
        "en_list = re.split('\\n',en_text)\n",
        "en_list[7]"
      ],
      "metadata": {
        "colab": {
          "base_uri": "https://localhost:8080/",
          "height": 36
        },
        "id": "SSkkVW-C5oy1",
        "outputId": "4e7e20b8-e11c-4699-eccb-b6843f1524d8"
      },
      "id": "SSkkVW-C5oy1",
      "execution_count": 180,
      "outputs": [
        {
          "output_type": "execute_result",
          "data": {
            "text/plain": [
              "'any form by any means—electronic, mechanical, photocopy, recording, or'"
            ],
            "application/vnd.google.colaboratory.intrinsic+json": {
              "type": "string"
            }
          },
          "metadata": {},
          "execution_count": 180
        }
      ]
    },
    {
      "cell_type": "code",
      "execution_count": 130,
      "id": "d3b821ec-8990-42e0-ba3a-912b8acd4845",
      "metadata": {
        "id": "d3b821ec-8990-42e0-ba3a-912b8acd4845",
        "colab": {
          "base_uri": "https://localhost:8080/"
        },
        "outputId": "27812829-b878-43a4-c31f-06ab5ced19ac"
      },
      "outputs": [
        {
          "output_type": "stream",
          "name": "stdout",
          "text": [
            "Looking in indexes: https://pypi.org/simple, https://us-python.pkg.dev/colab-wheels/public/simple/\n",
            "Requirement already satisfied: zstandard in /usr/local/lib/python3.7/dist-packages (0.18.0)\n"
          ]
        }
      ],
      "source": [
        "# !pip install zstandard\n",
        "\n",
        "from io import BytesIO\n",
        "import PIL.Image\n",
        "import numpy as np\n",
        "import gzip\n",
        "import random\n",
        "import lzma\n",
        "import os\n",
        "from tqdm import tqdm\n",
        "import zstandard\n",
        "import bz2\n",
        "from functools import lru_cache\n",
        "from sklearn.metrics import classification_report, accuracy_score\n",
        "from sklearn.neighbors import KNeighborsClassifier\n",
        "import matplotlib.pyplot as plt\n",
        "import seaborn as sns"
      ]
    },
    {
      "cell_type": "code",
      "execution_count": 131,
      "id": "05baf903-ce55-4cfd-87f2-d2d985cd9165",
      "metadata": {
        "id": "05baf903-ce55-4cfd-87f2-d2d985cd9165"
      },
      "outputs": [],
      "source": [
        "@lru_cache(maxsize=10000)\n",
        "def compress_size(bytefile):\n",
        "    return len(zstandard.compress(bytefile))\n",
        "\n",
        "def ncd(obj1, obj2):\n",
        "    obj1 = bytes(obj1, 'utf-8')\n",
        "    obj2 = bytes(obj2, 'utf-8')\n",
        "    len1 = compress_size(obj1)\n",
        "    len2 = compress_size(obj2)\n",
        "    concat_len = len(zstandard.compress(obj1+obj2))\n",
        "    return (concat_len-min(len1, len2))/max(len1, len2)"
      ]
    },
    {
      "cell_type": "markdown",
      "id": "0fd5c38b-7faf-43ae-97fa-92109a17707b",
      "metadata": {
        "id": "0fd5c38b-7faf-43ae-97fa-92109a17707b"
      },
      "source": [
        "![](botnet.png \"\")"
      ]
    },
    {
      "cell_type": "markdown",
      "source": [
        "# Entreno con el 100% de las declaraciónes. Mi \"test set\" van a ser las reviews"
      ],
      "metadata": {
        "id": "kdkqTgF0u5yY"
      },
      "id": "kdkqTgF0u5yY"
    },
    {
      "cell_type": "code",
      "execution_count": 132,
      "id": "cdcf1572-31f1-4890-bba8-8a5d19222c91",
      "metadata": {
        "id": "cdcf1572-31f1-4890-bba8-8a5d19222c91"
      },
      "outputs": [],
      "source": [
        "# from sklearn.model_selection import train_test_split\n",
        "# X_train, X_test, y_train, y_test = train_test_split(esp_list+por_list, \n",
        "#                                                     [\"Español\"]*len(esp_list)+[\"Portugues\"]*len(por_list), \n",
        "#                                                     test_size=0.1, random_state=42)"
      ]
    },
    {
      "cell_type": "code",
      "source": [
        "X_train = esp_list + por_list + en_list\n",
        "y_train = [\"Español\"]*len(esp_list) + [\"Portugues\"]*len(por_list) + [\"Inglés\"]*len(en_list)"
      ],
      "metadata": {
        "id": "ea8ettSWvSXQ"
      },
      "id": "ea8ettSWvSXQ",
      "execution_count": 182,
      "outputs": []
    },
    {
      "cell_type": "markdown",
      "source": [
        "# BUSCO TEST"
      ],
      "metadata": {
        "id": "lgvRVlWIvk7E"
      },
      "id": "lgvRVlWIvk7E"
    },
    {
      "cell_type": "code",
      "source": [
        "# !gdown \"1okxCrPipVJmexBSVZ34kJlttw02-7kTX\""
      ],
      "metadata": {
        "colab": {
          "base_uri": "https://localhost:8080/"
        },
        "id": "MSxpCSRVtJ44",
        "outputId": "c320ca11-10ab-4612-a4e9-0c208ab94867"
      },
      "id": "MSxpCSRVtJ44",
      "execution_count": 135,
      "outputs": [
        {
          "output_type": "stream",
          "name": "stdout",
          "text": [
            "/usr/local/lib/python3.7/dist-packages/requests/__init__.py:91: RequestsDependencyWarning: urllib3 (1.24.3) or chardet (4.0.0) doesn't match a supported version!\n",
            "  RequestsDependencyWarning)\n",
            "Downloading...\n",
            "From: https://drive.google.com/uc?id=1okxCrPipVJmexBSVZ34kJlttw02-7kTX\n",
            "To: /content/review.csv\n",
            "100% 2.43G/2.43G [00:18<00:00, 132MB/s]\n"
          ]
        }
      ]
    },
    {
      "cell_type": "code",
      "source": [
        "import pandas as pd\n",
        "df = pd.read_csv(\"/content/review.csv\")\n",
        "df"
      ],
      "metadata": {
        "colab": {
          "base_uri": "https://localhost:8080/",
          "height": 423
        },
        "id": "Xi3T85bOufP2",
        "outputId": "1f1522a5-c6ed-4a91-ba4a-d28e361f83a7"
      },
      "id": "Xi3T85bOufP2",
      "execution_count": 144,
      "outputs": [
        {
          "output_type": "execute_result",
          "data": {
            "text/plain": [
              "                      review_id                 user_id  \\\n",
              "0        KU_O5udG6zpxOg-VcAEodg  mh_-eMZ6K5RLWhZyISBhwA   \n",
              "1        Sx8TMOWLNuJBWer-0pcmoA  bcjbaE6dDog4jkNY91ncLQ   \n",
              "2        lUUhg8ltDsUZ9h0xnwY4Dg  RreNy--tOmXMl1en0wiBOg   \n",
              "3        -P5E9BYUaK7s3PwBF5oAyg  Jha0USGDMefGFRLik_xFQg   \n",
              "4        YbMyvlDA2W3Py5lTz8VK-A  4hBhtCSgoxkrFgHa4YAD-w   \n",
              "...                         ...                     ...   \n",
              "3838100  zHZ-A1qyKDEgyZMDaD--wg  _XVdmFWSgTN6YlojUxixTA   \n",
              "3838101  shTPgbgdwTHSuU67mGCmZQ  Zo0th2m8Ez4gLSbHftiQvg   \n",
              "3838102  YNfNhgZlaaCO5Q_YJR4rEw  mm6E4FbCMwJmb7kPDZ5v2Q   \n",
              "3838103  i-I4ZOhoX70Nw5H0FwrQUA  YwAMC-jvZ1fvEUum6QkEkw   \n",
              "3838104  RwcKOdEuLRHNJe4M9-qpqg  6JehEvdoCvZPJ_XIxnzIIw   \n",
              "\n",
              "                    business_id  stars  useful  funny  cool  \\\n",
              "0        XQfwVwDr-v0ZS3_CbbE5Xw    3.0     0.0    0.0   0.0   \n",
              "1        e4Vwtrqf-wpJfwesgvdgxQ    4.0     1.0    0.0   1.0   \n",
              "2        cPepkJeRMtHapc_b2Oe_dw    4.0     1.0    0.0   1.0   \n",
              "3        bMratNjTG5ZFEA6hVyr-xQ    5.0     0.0    0.0   0.0   \n",
              "4        bbEXAEFr4RYHLlZ-HFssTA    5.0     0.0    0.0   0.0   \n",
              "...                         ...    ...     ...    ...   ...   \n",
              "3838100  6WaI-IN8ql0xpEKlb4q8tg    5.0     1.0    0.0   0.0   \n",
              "3838101  2vLksaMmSEcGbjI5gywpZA    5.0     2.0    1.0   2.0   \n",
              "3838102  R1khUUxidqfaJmcpmGd4aw    4.0     1.0    0.0   0.0   \n",
              "3838103  Rr9kKArrMhSLVE9a53q-aA    5.0     1.0    0.0   0.0   \n",
              "3838104  VAeEXLbEcI9Emt9KGYq9aA    3.0    10.0    3.0   7.0   \n",
              "\n",
              "                                                      text  \\\n",
              "0        If you decide to eat here, just be aware it is...   \n",
              "1        Cute interior and owner (?) gave us tour of up...   \n",
              "2        I was really between 3 and 4 stars for this on...   \n",
              "3        First time there and it was excellent!!! It fe...   \n",
              "4        Great burgers,fries and salad!  Burgers have a...   \n",
              "...                                                    ...   \n",
              "3838100  We redesigned my moms dress and mad it complet...   \n",
              "3838101  This spot offers a great, affordable east week...   \n",
              "3838102  This Home Depot won me over when I needed to g...   \n",
              "3838103  For when I'm feeling like ignoring my calorie-...   \n",
              "3838104  Located in the 'Walking District' in Nashville...   \n",
              "\n",
              "                        date  \n",
              "0        2018-07-07 22:09:11  \n",
              "1        2017-01-14 20:54:15  \n",
              "2        2018-07-17 03:30:07  \n",
              "3        2017-02-19 13:32:05  \n",
              "4        2017-01-02 03:17:34  \n",
              "...                      ...  \n",
              "3838100  2022-01-17 20:59:01  \n",
              "3838101  2021-03-31 16:55:10  \n",
              "3838102  2019-12-30 03:56:30  \n",
              "3838103  2022-01-19 18:59:27  \n",
              "3838104  2018-01-02 22:50:47  \n",
              "\n",
              "[3838105 rows x 9 columns]"
            ],
            "text/html": [
              "\n",
              "  <div id=\"df-03c70342-5684-4a66-a4af-413903db8dc9\">\n",
              "    <div class=\"colab-df-container\">\n",
              "      <div>\n",
              "<style scoped>\n",
              "    .dataframe tbody tr th:only-of-type {\n",
              "        vertical-align: middle;\n",
              "    }\n",
              "\n",
              "    .dataframe tbody tr th {\n",
              "        vertical-align: top;\n",
              "    }\n",
              "\n",
              "    .dataframe thead th {\n",
              "        text-align: right;\n",
              "    }\n",
              "</style>\n",
              "<table border=\"1\" class=\"dataframe\">\n",
              "  <thead>\n",
              "    <tr style=\"text-align: right;\">\n",
              "      <th></th>\n",
              "      <th>review_id</th>\n",
              "      <th>user_id</th>\n",
              "      <th>business_id</th>\n",
              "      <th>stars</th>\n",
              "      <th>useful</th>\n",
              "      <th>funny</th>\n",
              "      <th>cool</th>\n",
              "      <th>text</th>\n",
              "      <th>date</th>\n",
              "    </tr>\n",
              "  </thead>\n",
              "  <tbody>\n",
              "    <tr>\n",
              "      <th>0</th>\n",
              "      <td>KU_O5udG6zpxOg-VcAEodg</td>\n",
              "      <td>mh_-eMZ6K5RLWhZyISBhwA</td>\n",
              "      <td>XQfwVwDr-v0ZS3_CbbE5Xw</td>\n",
              "      <td>3.0</td>\n",
              "      <td>0.0</td>\n",
              "      <td>0.0</td>\n",
              "      <td>0.0</td>\n",
              "      <td>If you decide to eat here, just be aware it is...</td>\n",
              "      <td>2018-07-07 22:09:11</td>\n",
              "    </tr>\n",
              "    <tr>\n",
              "      <th>1</th>\n",
              "      <td>Sx8TMOWLNuJBWer-0pcmoA</td>\n",
              "      <td>bcjbaE6dDog4jkNY91ncLQ</td>\n",
              "      <td>e4Vwtrqf-wpJfwesgvdgxQ</td>\n",
              "      <td>4.0</td>\n",
              "      <td>1.0</td>\n",
              "      <td>0.0</td>\n",
              "      <td>1.0</td>\n",
              "      <td>Cute interior and owner (?) gave us tour of up...</td>\n",
              "      <td>2017-01-14 20:54:15</td>\n",
              "    </tr>\n",
              "    <tr>\n",
              "      <th>2</th>\n",
              "      <td>lUUhg8ltDsUZ9h0xnwY4Dg</td>\n",
              "      <td>RreNy--tOmXMl1en0wiBOg</td>\n",
              "      <td>cPepkJeRMtHapc_b2Oe_dw</td>\n",
              "      <td>4.0</td>\n",
              "      <td>1.0</td>\n",
              "      <td>0.0</td>\n",
              "      <td>1.0</td>\n",
              "      <td>I was really between 3 and 4 stars for this on...</td>\n",
              "      <td>2018-07-17 03:30:07</td>\n",
              "    </tr>\n",
              "    <tr>\n",
              "      <th>3</th>\n",
              "      <td>-P5E9BYUaK7s3PwBF5oAyg</td>\n",
              "      <td>Jha0USGDMefGFRLik_xFQg</td>\n",
              "      <td>bMratNjTG5ZFEA6hVyr-xQ</td>\n",
              "      <td>5.0</td>\n",
              "      <td>0.0</td>\n",
              "      <td>0.0</td>\n",
              "      <td>0.0</td>\n",
              "      <td>First time there and it was excellent!!! It fe...</td>\n",
              "      <td>2017-02-19 13:32:05</td>\n",
              "    </tr>\n",
              "    <tr>\n",
              "      <th>4</th>\n",
              "      <td>YbMyvlDA2W3Py5lTz8VK-A</td>\n",
              "      <td>4hBhtCSgoxkrFgHa4YAD-w</td>\n",
              "      <td>bbEXAEFr4RYHLlZ-HFssTA</td>\n",
              "      <td>5.0</td>\n",
              "      <td>0.0</td>\n",
              "      <td>0.0</td>\n",
              "      <td>0.0</td>\n",
              "      <td>Great burgers,fries and salad!  Burgers have a...</td>\n",
              "      <td>2017-01-02 03:17:34</td>\n",
              "    </tr>\n",
              "    <tr>\n",
              "      <th>...</th>\n",
              "      <td>...</td>\n",
              "      <td>...</td>\n",
              "      <td>...</td>\n",
              "      <td>...</td>\n",
              "      <td>...</td>\n",
              "      <td>...</td>\n",
              "      <td>...</td>\n",
              "      <td>...</td>\n",
              "      <td>...</td>\n",
              "    </tr>\n",
              "    <tr>\n",
              "      <th>3838100</th>\n",
              "      <td>zHZ-A1qyKDEgyZMDaD--wg</td>\n",
              "      <td>_XVdmFWSgTN6YlojUxixTA</td>\n",
              "      <td>6WaI-IN8ql0xpEKlb4q8tg</td>\n",
              "      <td>5.0</td>\n",
              "      <td>1.0</td>\n",
              "      <td>0.0</td>\n",
              "      <td>0.0</td>\n",
              "      <td>We redesigned my moms dress and mad it complet...</td>\n",
              "      <td>2022-01-17 20:59:01</td>\n",
              "    </tr>\n",
              "    <tr>\n",
              "      <th>3838101</th>\n",
              "      <td>shTPgbgdwTHSuU67mGCmZQ</td>\n",
              "      <td>Zo0th2m8Ez4gLSbHftiQvg</td>\n",
              "      <td>2vLksaMmSEcGbjI5gywpZA</td>\n",
              "      <td>5.0</td>\n",
              "      <td>2.0</td>\n",
              "      <td>1.0</td>\n",
              "      <td>2.0</td>\n",
              "      <td>This spot offers a great, affordable east week...</td>\n",
              "      <td>2021-03-31 16:55:10</td>\n",
              "    </tr>\n",
              "    <tr>\n",
              "      <th>3838102</th>\n",
              "      <td>YNfNhgZlaaCO5Q_YJR4rEw</td>\n",
              "      <td>mm6E4FbCMwJmb7kPDZ5v2Q</td>\n",
              "      <td>R1khUUxidqfaJmcpmGd4aw</td>\n",
              "      <td>4.0</td>\n",
              "      <td>1.0</td>\n",
              "      <td>0.0</td>\n",
              "      <td>0.0</td>\n",
              "      <td>This Home Depot won me over when I needed to g...</td>\n",
              "      <td>2019-12-30 03:56:30</td>\n",
              "    </tr>\n",
              "    <tr>\n",
              "      <th>3838103</th>\n",
              "      <td>i-I4ZOhoX70Nw5H0FwrQUA</td>\n",
              "      <td>YwAMC-jvZ1fvEUum6QkEkw</td>\n",
              "      <td>Rr9kKArrMhSLVE9a53q-aA</td>\n",
              "      <td>5.0</td>\n",
              "      <td>1.0</td>\n",
              "      <td>0.0</td>\n",
              "      <td>0.0</td>\n",
              "      <td>For when I'm feeling like ignoring my calorie-...</td>\n",
              "      <td>2022-01-19 18:59:27</td>\n",
              "    </tr>\n",
              "    <tr>\n",
              "      <th>3838104</th>\n",
              "      <td>RwcKOdEuLRHNJe4M9-qpqg</td>\n",
              "      <td>6JehEvdoCvZPJ_XIxnzIIw</td>\n",
              "      <td>VAeEXLbEcI9Emt9KGYq9aA</td>\n",
              "      <td>3.0</td>\n",
              "      <td>10.0</td>\n",
              "      <td>3.0</td>\n",
              "      <td>7.0</td>\n",
              "      <td>Located in the 'Walking District' in Nashville...</td>\n",
              "      <td>2018-01-02 22:50:47</td>\n",
              "    </tr>\n",
              "  </tbody>\n",
              "</table>\n",
              "<p>3838105 rows × 9 columns</p>\n",
              "</div>\n",
              "      <button class=\"colab-df-convert\" onclick=\"convertToInteractive('df-03c70342-5684-4a66-a4af-413903db8dc9')\"\n",
              "              title=\"Convert this dataframe to an interactive table.\"\n",
              "              style=\"display:none;\">\n",
              "        \n",
              "  <svg xmlns=\"http://www.w3.org/2000/svg\" height=\"24px\"viewBox=\"0 0 24 24\"\n",
              "       width=\"24px\">\n",
              "    <path d=\"M0 0h24v24H0V0z\" fill=\"none\"/>\n",
              "    <path d=\"M18.56 5.44l.94 2.06.94-2.06 2.06-.94-2.06-.94-.94-2.06-.94 2.06-2.06.94zm-11 1L8.5 8.5l.94-2.06 2.06-.94-2.06-.94L8.5 2.5l-.94 2.06-2.06.94zm10 10l.94 2.06.94-2.06 2.06-.94-2.06-.94-.94-2.06-.94 2.06-2.06.94z\"/><path d=\"M17.41 7.96l-1.37-1.37c-.4-.4-.92-.59-1.43-.59-.52 0-1.04.2-1.43.59L10.3 9.45l-7.72 7.72c-.78.78-.78 2.05 0 2.83L4 21.41c.39.39.9.59 1.41.59.51 0 1.02-.2 1.41-.59l7.78-7.78 2.81-2.81c.8-.78.8-2.07 0-2.86zM5.41 20L4 18.59l7.72-7.72 1.47 1.35L5.41 20z\"/>\n",
              "  </svg>\n",
              "      </button>\n",
              "      \n",
              "  <style>\n",
              "    .colab-df-container {\n",
              "      display:flex;\n",
              "      flex-wrap:wrap;\n",
              "      gap: 12px;\n",
              "    }\n",
              "\n",
              "    .colab-df-convert {\n",
              "      background-color: #E8F0FE;\n",
              "      border: none;\n",
              "      border-radius: 50%;\n",
              "      cursor: pointer;\n",
              "      display: none;\n",
              "      fill: #1967D2;\n",
              "      height: 32px;\n",
              "      padding: 0 0 0 0;\n",
              "      width: 32px;\n",
              "    }\n",
              "\n",
              "    .colab-df-convert:hover {\n",
              "      background-color: #E2EBFA;\n",
              "      box-shadow: 0px 1px 2px rgba(60, 64, 67, 0.3), 0px 1px 3px 1px rgba(60, 64, 67, 0.15);\n",
              "      fill: #174EA6;\n",
              "    }\n",
              "\n",
              "    [theme=dark] .colab-df-convert {\n",
              "      background-color: #3B4455;\n",
              "      fill: #D2E3FC;\n",
              "    }\n",
              "\n",
              "    [theme=dark] .colab-df-convert:hover {\n",
              "      background-color: #434B5C;\n",
              "      box-shadow: 0px 1px 3px 1px rgba(0, 0, 0, 0.15);\n",
              "      filter: drop-shadow(0px 1px 2px rgba(0, 0, 0, 0.3));\n",
              "      fill: #FFFFFF;\n",
              "    }\n",
              "  </style>\n",
              "\n",
              "      <script>\n",
              "        const buttonEl =\n",
              "          document.querySelector('#df-03c70342-5684-4a66-a4af-413903db8dc9 button.colab-df-convert');\n",
              "        buttonEl.style.display =\n",
              "          google.colab.kernel.accessAllowed ? 'block' : 'none';\n",
              "\n",
              "        async function convertToInteractive(key) {\n",
              "          const element = document.querySelector('#df-03c70342-5684-4a66-a4af-413903db8dc9');\n",
              "          const dataTable =\n",
              "            await google.colab.kernel.invokeFunction('convertToInteractive',\n",
              "                                                     [key], {});\n",
              "          if (!dataTable) return;\n",
              "\n",
              "          const docLinkHtml = 'Like what you see? Visit the ' +\n",
              "            '<a target=\"_blank\" href=https://colab.research.google.com/notebooks/data_table.ipynb>data table notebook</a>'\n",
              "            + ' to learn more about interactive tables.';\n",
              "          element.innerHTML = '';\n",
              "          dataTable['output_type'] = 'display_data';\n",
              "          await google.colab.output.renderOutput(dataTable, element);\n",
              "          const docLink = document.createElement('div');\n",
              "          docLink.innerHTML = docLinkHtml;\n",
              "          element.appendChild(docLink);\n",
              "        }\n",
              "      </script>\n",
              "    </div>\n",
              "  </div>\n",
              "  "
            ]
          },
          "metadata": {},
          "execution_count": 144
        }
      ]
    },
    {
      "cell_type": "code",
      "source": [
        "X_test = df[\"text\"].tolist()\n",
        "X_test = X_test[20000:30000]\n",
        "len(X_test)"
      ],
      "metadata": {
        "colab": {
          "base_uri": "https://localhost:8080/"
        },
        "id": "UCCPYOEruorx",
        "outputId": "151950a7-9f38-45cc-da5b-f72c16ce6333"
      },
      "id": "UCCPYOEruorx",
      "execution_count": 183,
      "outputs": [
        {
          "output_type": "execute_result",
          "data": {
            "text/plain": [
              "10000"
            ]
          },
          "metadata": {},
          "execution_count": 183
        }
      ]
    },
    {
      "cell_type": "markdown",
      "source": [
        "# Infiero"
      ],
      "metadata": {
        "id": "hr9XQOHCtqxd"
      },
      "id": "hr9XQOHCtqxd"
    },
    {
      "cell_type": "code",
      "execution_count": 184,
      "id": "bb1d961a-6588-49b7-bdb2-27fb7b4e82f9",
      "metadata": {
        "collapsed": true,
        "jupyter": {
          "outputs_hidden": true
        },
        "tags": [],
        "id": "bb1d961a-6588-49b7-bdb2-27fb7b4e82f9",
        "outputId": "11e30656-6dc7-4ef2-97bf-9c7481d5b928",
        "colab": {
          "base_uri": "https://localhost:8080/"
        }
      },
      "outputs": [
        {
          "output_type": "stream",
          "name": "stderr",
          "text": [
            "100%|██████████| 10000/10000 [04:57<00:00, 33.65it/s]\n"
          ]
        }
      ],
      "source": [
        "from collections import Counter\n",
        "preds = []\n",
        "\n",
        "for testfrase in tqdm(X_test):\n",
        "   \n",
        "    distances = [ncd(frase, testfrase) for frase in X_train]\n",
        "    preds.append(Counter(np.asarray(y_train)[np.argsort(distances)[:3]]).most_common(1)[0][0])"
      ]
    },
    {
      "cell_type": "code",
      "source": [
        "df2 = pd.DataFrame(list(zip(X_test, preds, distances)),\n",
        "               columns =['Review', 'Predicción', 'Distances'])"
      ],
      "metadata": {
        "id": "CYjMhimp6Uqa"
      },
      "id": "CYjMhimp6Uqa",
      "execution_count": 187,
      "outputs": []
    },
    {
      "cell_type": "code",
      "source": [
        "portugues = df2[df2[\"Predicción\"] == \"Portugues\"].sort_values(by=['Distances'],ascending=True)\n",
        "portugues"
      ],
      "metadata": {
        "colab": {
          "base_uri": "https://localhost:8080/",
          "height": 423
        },
        "id": "yMmznYQd9Tdx",
        "outputId": "8432b7d5-9284-42ba-d110-87b03d42ff85"
      },
      "id": "yMmznYQd9Tdx",
      "execution_count": 191,
      "outputs": [
        {
          "output_type": "execute_result",
          "data": {
            "text/plain": [
              "                                                 Review Predicción  Distances\n",
              "1316  I've heard some really great things about Hive...  Portugues   0.636364\n",
              "1205  Went there tonight for the first time with a p...  Portugues   0.652893\n",
              "205   So ive been to place several times over the ye...  Portugues   0.661157\n",
              "459   We loved it. 2nd time.  Food fresh and yummy. ...  Portugues   0.661157\n",
              "942   Right across the street from Independence Hall...  Portugues   0.677686\n",
              "...                                                 ...        ...        ...\n",
              "876   I was very disappointed in my experience at Ma...  Portugues   0.966942\n",
              "526   Don't be deterred by the line. It moves fast a...  Portugues   0.966942\n",
              "971   We had the pleasure of dining here for dinner ...  Portugues   0.966942\n",
              "107   The best Italian restaurant in the city. You c...  Portugues   0.973577\n",
              "538   I know I am crazy for expecting good service f...  Portugues   0.983471\n",
              "\n",
              "[179 rows x 3 columns]"
            ],
            "text/html": [
              "\n",
              "  <div id=\"df-37bcfc02-05c4-4dd5-8286-306945deec7c\">\n",
              "    <div class=\"colab-df-container\">\n",
              "      <div>\n",
              "<style scoped>\n",
              "    .dataframe tbody tr th:only-of-type {\n",
              "        vertical-align: middle;\n",
              "    }\n",
              "\n",
              "    .dataframe tbody tr th {\n",
              "        vertical-align: top;\n",
              "    }\n",
              "\n",
              "    .dataframe thead th {\n",
              "        text-align: right;\n",
              "    }\n",
              "</style>\n",
              "<table border=\"1\" class=\"dataframe\">\n",
              "  <thead>\n",
              "    <tr style=\"text-align: right;\">\n",
              "      <th></th>\n",
              "      <th>Review</th>\n",
              "      <th>Predicción</th>\n",
              "      <th>Distances</th>\n",
              "    </tr>\n",
              "  </thead>\n",
              "  <tbody>\n",
              "    <tr>\n",
              "      <th>1316</th>\n",
              "      <td>I've heard some really great things about Hive...</td>\n",
              "      <td>Portugues</td>\n",
              "      <td>0.636364</td>\n",
              "    </tr>\n",
              "    <tr>\n",
              "      <th>1205</th>\n",
              "      <td>Went there tonight for the first time with a p...</td>\n",
              "      <td>Portugues</td>\n",
              "      <td>0.652893</td>\n",
              "    </tr>\n",
              "    <tr>\n",
              "      <th>205</th>\n",
              "      <td>So ive been to place several times over the ye...</td>\n",
              "      <td>Portugues</td>\n",
              "      <td>0.661157</td>\n",
              "    </tr>\n",
              "    <tr>\n",
              "      <th>459</th>\n",
              "      <td>We loved it. 2nd time.  Food fresh and yummy. ...</td>\n",
              "      <td>Portugues</td>\n",
              "      <td>0.661157</td>\n",
              "    </tr>\n",
              "    <tr>\n",
              "      <th>942</th>\n",
              "      <td>Right across the street from Independence Hall...</td>\n",
              "      <td>Portugues</td>\n",
              "      <td>0.677686</td>\n",
              "    </tr>\n",
              "    <tr>\n",
              "      <th>...</th>\n",
              "      <td>...</td>\n",
              "      <td>...</td>\n",
              "      <td>...</td>\n",
              "    </tr>\n",
              "    <tr>\n",
              "      <th>876</th>\n",
              "      <td>I was very disappointed in my experience at Ma...</td>\n",
              "      <td>Portugues</td>\n",
              "      <td>0.966942</td>\n",
              "    </tr>\n",
              "    <tr>\n",
              "      <th>526</th>\n",
              "      <td>Don't be deterred by the line. It moves fast a...</td>\n",
              "      <td>Portugues</td>\n",
              "      <td>0.966942</td>\n",
              "    </tr>\n",
              "    <tr>\n",
              "      <th>971</th>\n",
              "      <td>We had the pleasure of dining here for dinner ...</td>\n",
              "      <td>Portugues</td>\n",
              "      <td>0.966942</td>\n",
              "    </tr>\n",
              "    <tr>\n",
              "      <th>107</th>\n",
              "      <td>The best Italian restaurant in the city. You c...</td>\n",
              "      <td>Portugues</td>\n",
              "      <td>0.973577</td>\n",
              "    </tr>\n",
              "    <tr>\n",
              "      <th>538</th>\n",
              "      <td>I know I am crazy for expecting good service f...</td>\n",
              "      <td>Portugues</td>\n",
              "      <td>0.983471</td>\n",
              "    </tr>\n",
              "  </tbody>\n",
              "</table>\n",
              "<p>179 rows × 3 columns</p>\n",
              "</div>\n",
              "      <button class=\"colab-df-convert\" onclick=\"convertToInteractive('df-37bcfc02-05c4-4dd5-8286-306945deec7c')\"\n",
              "              title=\"Convert this dataframe to an interactive table.\"\n",
              "              style=\"display:none;\">\n",
              "        \n",
              "  <svg xmlns=\"http://www.w3.org/2000/svg\" height=\"24px\"viewBox=\"0 0 24 24\"\n",
              "       width=\"24px\">\n",
              "    <path d=\"M0 0h24v24H0V0z\" fill=\"none\"/>\n",
              "    <path d=\"M18.56 5.44l.94 2.06.94-2.06 2.06-.94-2.06-.94-.94-2.06-.94 2.06-2.06.94zm-11 1L8.5 8.5l.94-2.06 2.06-.94-2.06-.94L8.5 2.5l-.94 2.06-2.06.94zm10 10l.94 2.06.94-2.06 2.06-.94-2.06-.94-.94-2.06-.94 2.06-2.06.94z\"/><path d=\"M17.41 7.96l-1.37-1.37c-.4-.4-.92-.59-1.43-.59-.52 0-1.04.2-1.43.59L10.3 9.45l-7.72 7.72c-.78.78-.78 2.05 0 2.83L4 21.41c.39.39.9.59 1.41.59.51 0 1.02-.2 1.41-.59l7.78-7.78 2.81-2.81c.8-.78.8-2.07 0-2.86zM5.41 20L4 18.59l7.72-7.72 1.47 1.35L5.41 20z\"/>\n",
              "  </svg>\n",
              "      </button>\n",
              "      \n",
              "  <style>\n",
              "    .colab-df-container {\n",
              "      display:flex;\n",
              "      flex-wrap:wrap;\n",
              "      gap: 12px;\n",
              "    }\n",
              "\n",
              "    .colab-df-convert {\n",
              "      background-color: #E8F0FE;\n",
              "      border: none;\n",
              "      border-radius: 50%;\n",
              "      cursor: pointer;\n",
              "      display: none;\n",
              "      fill: #1967D2;\n",
              "      height: 32px;\n",
              "      padding: 0 0 0 0;\n",
              "      width: 32px;\n",
              "    }\n",
              "\n",
              "    .colab-df-convert:hover {\n",
              "      background-color: #E2EBFA;\n",
              "      box-shadow: 0px 1px 2px rgba(60, 64, 67, 0.3), 0px 1px 3px 1px rgba(60, 64, 67, 0.15);\n",
              "      fill: #174EA6;\n",
              "    }\n",
              "\n",
              "    [theme=dark] .colab-df-convert {\n",
              "      background-color: #3B4455;\n",
              "      fill: #D2E3FC;\n",
              "    }\n",
              "\n",
              "    [theme=dark] .colab-df-convert:hover {\n",
              "      background-color: #434B5C;\n",
              "      box-shadow: 0px 1px 3px 1px rgba(0, 0, 0, 0.15);\n",
              "      filter: drop-shadow(0px 1px 2px rgba(0, 0, 0, 0.3));\n",
              "      fill: #FFFFFF;\n",
              "    }\n",
              "  </style>\n",
              "\n",
              "      <script>\n",
              "        const buttonEl =\n",
              "          document.querySelector('#df-37bcfc02-05c4-4dd5-8286-306945deec7c button.colab-df-convert');\n",
              "        buttonEl.style.display =\n",
              "          google.colab.kernel.accessAllowed ? 'block' : 'none';\n",
              "\n",
              "        async function convertToInteractive(key) {\n",
              "          const element = document.querySelector('#df-37bcfc02-05c4-4dd5-8286-306945deec7c');\n",
              "          const dataTable =\n",
              "            await google.colab.kernel.invokeFunction('convertToInteractive',\n",
              "                                                     [key], {});\n",
              "          if (!dataTable) return;\n",
              "\n",
              "          const docLinkHtml = 'Like what you see? Visit the ' +\n",
              "            '<a target=\"_blank\" href=https://colab.research.google.com/notebooks/data_table.ipynb>data table notebook</a>'\n",
              "            + ' to learn more about interactive tables.';\n",
              "          element.innerHTML = '';\n",
              "          dataTable['output_type'] = 'display_data';\n",
              "          await google.colab.output.renderOutput(dataTable, element);\n",
              "          const docLink = document.createElement('div');\n",
              "          docLink.innerHTML = docLinkHtml;\n",
              "          element.appendChild(docLink);\n",
              "        }\n",
              "      </script>\n",
              "    </div>\n",
              "  </div>\n",
              "  "
            ]
          },
          "metadata": {},
          "execution_count": 191
        }
      ]
    },
    {
      "cell_type": "code",
      "source": [
        "español = df2[df2[\"Predicción\"] == \"Español\"].sort_values(by=['Distances'],ascending=True)\n",
        "español"
      ],
      "metadata": {
        "colab": {
          "base_uri": "https://localhost:8080/",
          "height": 423
        },
        "id": "R23crb9q9klc",
        "outputId": "5c05ce6e-f438-4807-c3cb-ee066d41030d"
      },
      "id": "R23crb9q9klc",
      "execution_count": 192,
      "outputs": [
        {
          "output_type": "execute_result",
          "data": {
            "text/plain": [
              "                                                 Review Predicción  Distances\n",
              "1189  Kristen has been 100% phenomenal, hands down. ...    Español   0.644628\n",
              "708   We were in town for the weekend and this place...    Español   0.669421\n",
              "1436  I admit I was a little shy of the adventurous ...    Español   0.669421\n",
              "1184  I'm really surprised that someone would take t...    Español   0.669421\n",
              "829   What does a one $ sign, fabulous food in a ple...    Español   0.677686\n",
              "...                                                 ...        ...        ...\n",
              "1538  We are from MN and I saw this place on social ...    Español   0.958678\n",
              "390   First time at Honeygrow today. My client reque...    Español   0.958678\n",
              "1515  Everything here is super good and relatively a...    Español   0.966942\n",
              "494   I got sushi and vegetables noodles for takeout...    Español   0.966942\n",
              "502   I was recently diagnosed with a gluten intoler...    Español   0.966942\n",
              "\n",
              "[298 rows x 3 columns]"
            ],
            "text/html": [
              "\n",
              "  <div id=\"df-bfe2719c-fd8f-444c-a16e-cd81385c02cb\">\n",
              "    <div class=\"colab-df-container\">\n",
              "      <div>\n",
              "<style scoped>\n",
              "    .dataframe tbody tr th:only-of-type {\n",
              "        vertical-align: middle;\n",
              "    }\n",
              "\n",
              "    .dataframe tbody tr th {\n",
              "        vertical-align: top;\n",
              "    }\n",
              "\n",
              "    .dataframe thead th {\n",
              "        text-align: right;\n",
              "    }\n",
              "</style>\n",
              "<table border=\"1\" class=\"dataframe\">\n",
              "  <thead>\n",
              "    <tr style=\"text-align: right;\">\n",
              "      <th></th>\n",
              "      <th>Review</th>\n",
              "      <th>Predicción</th>\n",
              "      <th>Distances</th>\n",
              "    </tr>\n",
              "  </thead>\n",
              "  <tbody>\n",
              "    <tr>\n",
              "      <th>1189</th>\n",
              "      <td>Kristen has been 100% phenomenal, hands down. ...</td>\n",
              "      <td>Español</td>\n",
              "      <td>0.644628</td>\n",
              "    </tr>\n",
              "    <tr>\n",
              "      <th>708</th>\n",
              "      <td>We were in town for the weekend and this place...</td>\n",
              "      <td>Español</td>\n",
              "      <td>0.669421</td>\n",
              "    </tr>\n",
              "    <tr>\n",
              "      <th>1436</th>\n",
              "      <td>I admit I was a little shy of the adventurous ...</td>\n",
              "      <td>Español</td>\n",
              "      <td>0.669421</td>\n",
              "    </tr>\n",
              "    <tr>\n",
              "      <th>1184</th>\n",
              "      <td>I'm really surprised that someone would take t...</td>\n",
              "      <td>Español</td>\n",
              "      <td>0.669421</td>\n",
              "    </tr>\n",
              "    <tr>\n",
              "      <th>829</th>\n",
              "      <td>What does a one $ sign, fabulous food in a ple...</td>\n",
              "      <td>Español</td>\n",
              "      <td>0.677686</td>\n",
              "    </tr>\n",
              "    <tr>\n",
              "      <th>...</th>\n",
              "      <td>...</td>\n",
              "      <td>...</td>\n",
              "      <td>...</td>\n",
              "    </tr>\n",
              "    <tr>\n",
              "      <th>1538</th>\n",
              "      <td>We are from MN and I saw this place on social ...</td>\n",
              "      <td>Español</td>\n",
              "      <td>0.958678</td>\n",
              "    </tr>\n",
              "    <tr>\n",
              "      <th>390</th>\n",
              "      <td>First time at Honeygrow today. My client reque...</td>\n",
              "      <td>Español</td>\n",
              "      <td>0.958678</td>\n",
              "    </tr>\n",
              "    <tr>\n",
              "      <th>1515</th>\n",
              "      <td>Everything here is super good and relatively a...</td>\n",
              "      <td>Español</td>\n",
              "      <td>0.966942</td>\n",
              "    </tr>\n",
              "    <tr>\n",
              "      <th>494</th>\n",
              "      <td>I got sushi and vegetables noodles for takeout...</td>\n",
              "      <td>Español</td>\n",
              "      <td>0.966942</td>\n",
              "    </tr>\n",
              "    <tr>\n",
              "      <th>502</th>\n",
              "      <td>I was recently diagnosed with a gluten intoler...</td>\n",
              "      <td>Español</td>\n",
              "      <td>0.966942</td>\n",
              "    </tr>\n",
              "  </tbody>\n",
              "</table>\n",
              "<p>298 rows × 3 columns</p>\n",
              "</div>\n",
              "      <button class=\"colab-df-convert\" onclick=\"convertToInteractive('df-bfe2719c-fd8f-444c-a16e-cd81385c02cb')\"\n",
              "              title=\"Convert this dataframe to an interactive table.\"\n",
              "              style=\"display:none;\">\n",
              "        \n",
              "  <svg xmlns=\"http://www.w3.org/2000/svg\" height=\"24px\"viewBox=\"0 0 24 24\"\n",
              "       width=\"24px\">\n",
              "    <path d=\"M0 0h24v24H0V0z\" fill=\"none\"/>\n",
              "    <path d=\"M18.56 5.44l.94 2.06.94-2.06 2.06-.94-2.06-.94-.94-2.06-.94 2.06-2.06.94zm-11 1L8.5 8.5l.94-2.06 2.06-.94-2.06-.94L8.5 2.5l-.94 2.06-2.06.94zm10 10l.94 2.06.94-2.06 2.06-.94-2.06-.94-.94-2.06-.94 2.06-2.06.94z\"/><path d=\"M17.41 7.96l-1.37-1.37c-.4-.4-.92-.59-1.43-.59-.52 0-1.04.2-1.43.59L10.3 9.45l-7.72 7.72c-.78.78-.78 2.05 0 2.83L4 21.41c.39.39.9.59 1.41.59.51 0 1.02-.2 1.41-.59l7.78-7.78 2.81-2.81c.8-.78.8-2.07 0-2.86zM5.41 20L4 18.59l7.72-7.72 1.47 1.35L5.41 20z\"/>\n",
              "  </svg>\n",
              "      </button>\n",
              "      \n",
              "  <style>\n",
              "    .colab-df-container {\n",
              "      display:flex;\n",
              "      flex-wrap:wrap;\n",
              "      gap: 12px;\n",
              "    }\n",
              "\n",
              "    .colab-df-convert {\n",
              "      background-color: #E8F0FE;\n",
              "      border: none;\n",
              "      border-radius: 50%;\n",
              "      cursor: pointer;\n",
              "      display: none;\n",
              "      fill: #1967D2;\n",
              "      height: 32px;\n",
              "      padding: 0 0 0 0;\n",
              "      width: 32px;\n",
              "    }\n",
              "\n",
              "    .colab-df-convert:hover {\n",
              "      background-color: #E2EBFA;\n",
              "      box-shadow: 0px 1px 2px rgba(60, 64, 67, 0.3), 0px 1px 3px 1px rgba(60, 64, 67, 0.15);\n",
              "      fill: #174EA6;\n",
              "    }\n",
              "\n",
              "    [theme=dark] .colab-df-convert {\n",
              "      background-color: #3B4455;\n",
              "      fill: #D2E3FC;\n",
              "    }\n",
              "\n",
              "    [theme=dark] .colab-df-convert:hover {\n",
              "      background-color: #434B5C;\n",
              "      box-shadow: 0px 1px 3px 1px rgba(0, 0, 0, 0.15);\n",
              "      filter: drop-shadow(0px 1px 2px rgba(0, 0, 0, 0.3));\n",
              "      fill: #FFFFFF;\n",
              "    }\n",
              "  </style>\n",
              "\n",
              "      <script>\n",
              "        const buttonEl =\n",
              "          document.querySelector('#df-bfe2719c-fd8f-444c-a16e-cd81385c02cb button.colab-df-convert');\n",
              "        buttonEl.style.display =\n",
              "          google.colab.kernel.accessAllowed ? 'block' : 'none';\n",
              "\n",
              "        async function convertToInteractive(key) {\n",
              "          const element = document.querySelector('#df-bfe2719c-fd8f-444c-a16e-cd81385c02cb');\n",
              "          const dataTable =\n",
              "            await google.colab.kernel.invokeFunction('convertToInteractive',\n",
              "                                                     [key], {});\n",
              "          if (!dataTable) return;\n",
              "\n",
              "          const docLinkHtml = 'Like what you see? Visit the ' +\n",
              "            '<a target=\"_blank\" href=https://colab.research.google.com/notebooks/data_table.ipynb>data table notebook</a>'\n",
              "            + ' to learn more about interactive tables.';\n",
              "          element.innerHTML = '';\n",
              "          dataTable['output_type'] = 'display_data';\n",
              "          await google.colab.output.renderOutput(dataTable, element);\n",
              "          const docLink = document.createElement('div');\n",
              "          docLink.innerHTML = docLinkHtml;\n",
              "          element.appendChild(docLink);\n",
              "        }\n",
              "      </script>\n",
              "    </div>\n",
              "  </div>\n",
              "  "
            ]
          },
          "metadata": {},
          "execution_count": 192
        }
      ]
    },
    {
      "cell_type": "code",
      "execution_count": 141,
      "id": "6cba1e31-6497-48fd-9803-1a788539e1ec",
      "metadata": {
        "tags": [],
        "id": "6cba1e31-6497-48fd-9803-1a788539e1ec"
      },
      "outputs": [],
      "source": [
        "# accuracy_score(y_test, preds)"
      ]
    },
    {
      "cell_type": "code",
      "execution_count": 142,
      "id": "c9e69ee6-ef80-40ea-aafa-b1182b634d72",
      "metadata": {
        "tags": [],
        "id": "c9e69ee6-ef80-40ea-aafa-b1182b634d72"
      },
      "outputs": [],
      "source": [
        "# print(classification_report(y_test, preds))"
      ]
    }
  ],
  "metadata": {
    "kernelspec": {
      "display_name": "Python 3",
      "language": "python",
      "name": "python3"
    },
    "language_info": {
      "codemirror_mode": {
        "name": "ipython",
        "version": 3
      },
      "file_extension": ".py",
      "mimetype": "text/x-python",
      "name": "python",
      "nbconvert_exporter": "python",
      "pygments_lexer": "ipython3",
      "version": "3.9.5"
    },
    "colab": {
      "provenance": [],
      "include_colab_link": true
    }
  },
  "nbformat": 4,
  "nbformat_minor": 5
}