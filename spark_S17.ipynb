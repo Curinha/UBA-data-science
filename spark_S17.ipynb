{
  "nbformat": 4,
  "nbformat_minor": 0,
  "metadata": {
    "colab": {
      "provenance": [],
      "authorship_tag": "ABX9TyNSor+1FD/ghDZJHBScPToH",
      "include_colab_link": true
    },
    "kernelspec": {
      "name": "python3",
      "display_name": "Python 3"
    },
    "language_info": {
      "name": "python"
    }
  },
  "cells": [
    {
      "cell_type": "markdown",
      "metadata": {
        "id": "view-in-github",
        "colab_type": "text"
      },
      "source": [
        "<a href=\"https://colab.research.google.com/github/aguscura/UBA-data-science/blob/main/spark_S17.ipynb\" target=\"_parent\"><img src=\"https://colab.research.google.com/assets/colab-badge.svg\" alt=\"Open In Colab\"/></a>"
      ]
    },
    {
      "cell_type": "markdown",
      "source": [
        "**S17:** La antigüedad promedio de los usuarios y el nombre del usuario más antiguo cuyas última review contenga la palabra ‘pizza’ (2 PUNTOS)\n"
      ],
      "metadata": {
        "id": "_K45HHrIXACj"
      }
    },
    {
      "cell_type": "code",
      "source": [
        "!pip install pyspark\n",
        "# !pip install -U -q PyDrive\n",
        "# !apt update\n",
        "# !apt install openjdk-8-jdk-headless -qq"
      ],
      "metadata": {
        "id": "-yBwh5lKXCTz",
        "colab": {
          "base_uri": "https://localhost:8080/"
        },
        "outputId": "33e2dd4c-d659-444f-b987-9adbc89e16a2"
      },
      "execution_count": 18,
      "outputs": [
        {
          "output_type": "stream",
          "name": "stdout",
          "text": [
            "Looking in indexes: https://pypi.org/simple, https://us-python.pkg.dev/colab-wheels/public/simple/\n",
            "Requirement already satisfied: pyspark in /usr/local/lib/python3.7/dist-packages (3.3.0)\n",
            "Requirement already satisfied: py4j==0.10.9.5 in /usr/local/lib/python3.7/dist-packages (from pyspark) (0.10.9.5)\n"
          ]
        }
      ]
    },
    {
      "cell_type": "code",
      "source": [
        "from pydrive.auth import GoogleAuth\n",
        "from pydrive.drive import GoogleDrive\n",
        "from google.colab import auth\n",
        "from oauth2client.client import GoogleCredentials\n",
        "from pyspark.sql import *\n",
        "from pyspark.sql.functions import *\n",
        "from pyspark import SparkContext\n",
        "from pyspark.sql import SQLContext\n",
        "import pandas as pd\n",
        "from tqdm import tqdm\n",
        "from datetime import date\n",
        "from datetime import datetime, timedelta"
      ],
      "metadata": {
        "id": "fBeYfEjEe6ni"
      },
      "execution_count": 19,
      "outputs": []
    },
    {
      "cell_type": "code",
      "source": [
        "!gdown \"1owjSBHKLx0pJMdQYtKUIfiXqBV3lfCdS\""
      ],
      "metadata": {
        "id": "LGVFU96pfCid",
        "colab": {
          "base_uri": "https://localhost:8080/"
        },
        "outputId": "b08bec23-8265-4133-aed2-33b76d99f944"
      },
      "execution_count": 20,
      "outputs": [
        {
          "output_type": "stream",
          "name": "stdout",
          "text": [
            "Downloading...\n",
            "From: https://drive.google.com/uc?id=1owjSBHKLx0pJMdQYtKUIfiXqBV3lfCdS\n",
            "To: /content/user.csv\n",
            "100% 2.71G/2.71G [00:11<00:00, 234MB/s]\n"
          ]
        }
      ]
    },
    {
      "cell_type": "code",
      "source": [
        "#Creamos el Spark Context\n",
        "spark = SparkSession.builder.getOrCreate()\n",
        "sc = spark.sparkContext"
      ],
      "metadata": {
        "id": "yN9s2RosgP4O"
      },
      "execution_count": null,
      "outputs": []
    },
    {
      "cell_type": "markdown",
      "source": [
        "Paso el csv a parquet. Por un tema de RAM solo me traigo algunas columnas"
      ],
      "metadata": {
        "id": "YZumy6IZ4dIK"
      }
    },
    {
      "cell_type": "code",
      "source": [
        "#Chequeo columnas del df\n",
        "df = pd.read_csv(\"/content/user.csv\")\n",
        "df.columns"
      ],
      "metadata": {
        "colab": {
          "base_uri": "https://localhost:8080/"
        },
        "id": "35IoyYF24XEs",
        "outputId": "28369cef-ab2a-4773-e3c7-9e7dae53a856"
      },
      "execution_count": null,
      "outputs": [
        {
          "output_type": "execute_result",
          "data": {
            "text/plain": [
              "Index(['user_id', 'name', 'review_count', 'yelping_since', 'useful', 'funny',\n",
              "       'cool', 'elite', 'friends', 'fans', 'average_stars', 'compliment_hot',\n",
              "       'compliment_more', 'compliment_profile', 'compliment_cute',\n",
              "       'compliment_list', 'compliment_note', 'compliment_plain',\n",
              "       'compliment_cool', 'compliment_funny', 'compliment_writer',\n",
              "       'compliment_photos'],\n",
              "      dtype='object')"
            ]
          },
          "metadata": {},
          "execution_count": 21
        }
      ]
    },
    {
      "cell_type": "markdown",
      "source": [
        "# **La antigüedad promedio de los usuarios**"
      ],
      "metadata": {
        "id": "gJusaRmgYQNP"
      }
    },
    {
      "cell_type": "code",
      "source": [
        "#Paso a parquet. Acá solo tomo algunas columnas por el RAM\n",
        "df = pd.read_csv(\"/content/user.csv\", usecols=[\"user_id\",\"name\",\"yelping_since\"])\n",
        "df.to_parquet(\"/content/user.parquet\")"
      ],
      "metadata": {
        "id": "b4gutRtG1DpC"
      },
      "execution_count": null,
      "outputs": []
    },
    {
      "cell_type": "code",
      "source": [
        "#Leemos archivo parquet\n",
        "sqlContext = SQLContext(sc)\n",
        "rdd = sqlContext.read.parquet('/content/user.parquet').rdd.repartition(2)\n"
      ],
      "metadata": {
        "id": "eySYRnFYhXBT"
      },
      "execution_count": null,
      "outputs": []
    },
    {
      "cell_type": "code",
      "source": [
        "rdd.take(5)"
      ],
      "metadata": {
        "colab": {
          "base_uri": "https://localhost:8080/"
        },
        "id": "NQqDqEFvh-7X",
        "outputId": "ae6c335e-9ac3-4901-a344-ae3486f56e77"
      },
      "execution_count": null,
      "outputs": [
        {
          "output_type": "execute_result",
          "data": {
            "text/plain": [
              "[Row(user_id='qVc8ODYU5SZjKXVBgXdI7w', name='Walker', yelping_since='2007-01-25 16:47:26'),\n",
              " Row(user_id='j14WgRoU_-2ZE1aw1dXrJg', name='Daniel', yelping_since='2009-01-25 04:35:42'),\n",
              " Row(user_id='2WnXYQFK0hXEoTxPtV2zvg', name='Steph', yelping_since='2008-07-25 10:41:00'),\n",
              " Row(user_id='SZDeASXq7o05mMNLshsdIA', name='Gwen', yelping_since='2005-11-29 04:38:33'),\n",
              " Row(user_id='hA5lMy-EnncsH4JoR-hFGQ', name='Karen', yelping_since='2007-01-05 19:40:59')]"
            ]
          },
          "metadata": {},
          "execution_count": 24
        }
      ]
    },
    {
      "cell_type": "code",
      "source": [
        "rdd_cached = rdd.map(lambda x: (x.user_id, (x.name, (datetime.now() - datetime.strptime(x.yelping_since, '%Y-%m-%d %H:%M:%S')).days))).cache()"
      ],
      "metadata": {
        "id": "UbVkR4Wbg36R"
      },
      "execution_count": null,
      "outputs": []
    },
    {
      "cell_type": "code",
      "source": [
        "total = rdd_cached.count()\n",
        "total"
      ],
      "metadata": {
        "id": "qgIVSdQrz26Q",
        "colab": {
          "base_uri": "https://localhost:8080/"
        },
        "outputId": "19f44fab-36c7-4689-828a-704a5f3b1397"
      },
      "execution_count": null,
      "outputs": [
        {
          "output_type": "execute_result",
          "data": {
            "text/plain": [
              "1987897"
            ]
          },
          "metadata": {},
          "execution_count": 26
        }
      ]
    },
    {
      "cell_type": "code",
      "source": [
        "rdd_cached.take(5)"
      ],
      "metadata": {
        "colab": {
          "base_uri": "https://localhost:8080/"
        },
        "id": "EoLRIGdJfrds",
        "outputId": "cac94cd0-d41f-4965-c482-7d0b6c4ccd4a"
      },
      "execution_count": null,
      "outputs": [
        {
          "output_type": "execute_result",
          "data": {
            "text/plain": [
              "[('qVc8ODYU5SZjKXVBgXdI7w', ('Walker', 5743)),\n",
              " ('j14WgRoU_-2ZE1aw1dXrJg', ('Daniel', 5013)),\n",
              " ('2WnXYQFK0hXEoTxPtV2zvg', ('Steph', 5197)),\n",
              " ('SZDeASXq7o05mMNLshsdIA', ('Gwen', 6166)),\n",
              " ('hA5lMy-EnncsH4JoR-hFGQ', ('Karen', 5763))]"
            ]
          },
          "metadata": {},
          "execution_count": 27
        }
      ]
    },
    {
      "cell_type": "code",
      "source": [
        "sum = rdd_cached.map(lambda x: x[1][1]).reduce(lambda a,b: a+b)\n",
        "sum"
      ],
      "metadata": {
        "colab": {
          "base_uri": "https://localhost:8080/"
        },
        "id": "uvBBbyu4EMc6",
        "outputId": "b988f134-ae9d-404f-ff11-3d150689f0b7"
      },
      "execution_count": 114,
      "outputs": [
        {
          "output_type": "execute_result",
          "data": {
            "text/plain": [
              "5827777664"
            ]
          },
          "metadata": {},
          "execution_count": 114
        }
      ]
    },
    {
      "cell_type": "code",
      "source": [
        "mean = sum/total\n",
        "print(mean)"
      ],
      "metadata": {
        "colab": {
          "base_uri": "https://localhost:8080/"
        },
        "id": "FCNzf2j_hPcB",
        "outputId": "b69c26aa-bca1-4dd4-a5fd-9c2cdcfc5c5e"
      },
      "execution_count": null,
      "outputs": [
        {
          "output_type": "stream",
          "name": "stdout",
          "text": [
            "2931.6295884545325\n"
          ]
        }
      ]
    },
    {
      "cell_type": "markdown",
      "source": [
        "**ANTIGUEDAD PROMEDIO EN DÍAS: 2931.353246169193**\n",
        "\n",
        "\n"
      ],
      "metadata": {
        "id": "2K8XFr53hVxc"
      }
    },
    {
      "cell_type": "markdown",
      "source": [
        "#**Nombre del usuario más antiguo cuya última review contenga la palabra ‘pizza'**"
      ],
      "metadata": {
        "id": "YeDZ_ptShUxP"
      }
    },
    {
      "cell_type": "code",
      "source": [
        "!gdown \"1okxCrPipVJmexBSVZ34kJlttw02-7kTX\""
      ],
      "metadata": {
        "id": "Doy6FxXvityg",
        "colab": {
          "base_uri": "https://localhost:8080/"
        },
        "outputId": "89c7f5bc-d753-412f-eb1b-c90481827fd3"
      },
      "execution_count": null,
      "outputs": [
        {
          "output_type": "stream",
          "name": "stdout",
          "text": [
            "Downloading...\n",
            "From: https://drive.google.com/uc?id=1okxCrPipVJmexBSVZ34kJlttw02-7kTX\n",
            "To: /content/review.csv\n",
            "100% 2.43G/2.43G [00:14<00:00, 170MB/s]\n"
          ]
        }
      ]
    },
    {
      "cell_type": "markdown",
      "source": [
        "**Para el review.csv, no hago el pasaje a parquet porque no me da el RAM**"
      ],
      "metadata": {
        "id": "iLulX90XDkY1"
      }
    },
    {
      "cell_type": "code",
      "source": [
        "# df = pd.read_csv(\"/content/review.csv\")\n",
        "# df.columns"
      ],
      "metadata": {
        "colab": {
          "base_uri": "https://localhost:8080/"
        },
        "id": "qrTa17s3peC3",
        "outputId": "f60dc772-884c-427e-a2b9-96a9cd8cf2e9"
      },
      "execution_count": 31,
      "outputs": [
        {
          "output_type": "execute_result",
          "data": {
            "text/plain": [
              "Index(['review_id', 'user_id', 'business_id', 'stars', 'useful', 'funny',\n",
              "       'cool', 'text', 'date'],\n",
              "      dtype='object')"
            ]
          },
          "metadata": {},
          "execution_count": 15
        },
        {
          "output_type": "execute_result",
          "data": {
            "text/plain": [
              "Index(['review_id', 'user_id', 'business_id', 'stars', 'useful', 'funny',\n",
              "       'cool', 'text', 'date'],\n",
              "      dtype='object')"
            ]
          },
          "metadata": {},
          "execution_count": 31
        }
      ]
    },
    {
      "cell_type": "code",
      "source": [
        "# df = pd.read_csv(\"/content/review.csv\", usecols=[\"user_id\",\"text\", \"date\"])\n",
        "# df.to_parquet(\"/content/review.parquet\")"
      ],
      "metadata": {
        "id": "BsplQPHisF8I"
      },
      "execution_count": 32,
      "outputs": []
    },
    {
      "cell_type": "code",
      "source": [
        "#Leemos archivo parquet\n",
        "# sqlContext = SQLContext(sc)\n",
        "# rdd_2 = sqlContext.read.parquet('/content/review.parquet').rdd.repartition(2)"
      ],
      "metadata": {
        "id": "W9RtuHlqzCZJ"
      },
      "execution_count": 33,
      "outputs": []
    },
    {
      "cell_type": "code",
      "source": [
        "sqlContext = SQLContext(sc)\n",
        "df = sqlContext.read.csv('/content/review.csv', header=True, inferSchema=True)\n",
        "rdd_2 = df.rdd"
      ],
      "metadata": {
        "colab": {
          "base_uri": "https://localhost:8080/"
        },
        "id": "xLttNuL5DbgT",
        "outputId": "774881d9-dc57-4ae5-f9cb-a02b21b59968"
      },
      "execution_count": 79,
      "outputs": [
        {
          "output_type": "stream",
          "name": "stderr",
          "text": [
            "/usr/local/lib/python3.7/dist-packages/pyspark/sql/context.py:114: FutureWarning: Deprecated in 3.0.0. Use SparkSession.builder.getOrCreate() instead.\n",
            "  FutureWarning,\n"
          ]
        }
      ]
    },
    {
      "cell_type": "code",
      "source": [
        "rdd_2.take(5)"
      ],
      "metadata": {
        "id": "PwayuHeRGPMH",
        "colab": {
          "base_uri": "https://localhost:8080/"
        },
        "outputId": "21b91e71-53d4-42d0-bad7-3054ff8aea50"
      },
      "execution_count": 94,
      "outputs": [
        {
          "output_type": "execute_result",
          "data": {
            "text/plain": [
              "[Row(review_id='KU_O5udG6zpxOg-VcAEodg', user_id='mh_-eMZ6K5RLWhZyISBhwA', business_id='XQfwVwDr-v0ZS3_CbbE5Xw', stars='3.0', useful='0.0', funny='0.0', cool='0.0', text=\"If you decide to eat here, just be aware it is going to take about 2 hours from beginning to end. We have tried it multiple times, because I want to like it! I have been to it's other locations in NJ and never had a bad experience. \", date=None),\n",
              " Row(review_id='The food is good', user_id=' but it takes a very long time to come out. The waitstaff is very young', business_id=' but usually pleasant. We have just had too many experiences where we spent way too long waiting. We usually opt for another diner or restaurant on the weekends', stars=' in order to be done quicker.\"', useful='2018-07-07 22:09:11', funny=None, cool=None, text=None, date=None),\n",
              " Row(review_id='Sx8TMOWLNuJBWer-0pcmoA', user_id='bcjbaE6dDog4jkNY91ncLQ', business_id='e4Vwtrqf-wpJfwesgvdgxQ', stars='4.0', useful='1.0', funny='0.0', cool='1.0', text=\"Cute interior and owner (?) gave us tour of upcoming patio/rooftop area which will be great on beautiful days like today. Cheese curds were very good and very filling. Really like that sandwiches come w salad, esp after eating too many curds! Had the onion, gruyere, tomato sandwich. Wasn't too much cheese which I liked. Needed something else...pepper jelly maybe. Would like to see more menu options added such as salads w fun cheeses. Lots of beer and wine as well as limited cocktails. Next time I will try one of the draft wines.\", date='2017-01-14 20:54:15'),\n",
              " Row(review_id='lUUhg8ltDsUZ9h0xnwY4Dg', user_id='RreNy--tOmXMl1en0wiBOg', business_id='cPepkJeRMtHapc_b2Oe_dw', stars='4.0', useful='1.0', funny='0.0', cool='1.0', text='I was really between 3 and 4 stars for this one. I LOVE the 96th street Naked Tchopstix so I was very excited to see this one which is closer to my house.', date=None),\n",
              " Row(review_id='The vibe is totally different as this is geared more to take out although they do have a decent size dining area. You order at the counter and they deliver it.', user_id=None, business_id=None, stars=None, useful=None, funny=None, cool=None, text=None, date=None)]"
            ]
          },
          "metadata": {},
          "execution_count": 94
        }
      ]
    },
    {
      "cell_type": "markdown",
      "source": [
        "Voy a buscar **para cada user** la ultima review que contenga la palabra pizza.Primero filtro por aquellas review que tengan fecha (para que sean comparables y buscar la ultima) y también filtro por las reviews **no nulas** que tengan la palabra pizza."
      ],
      "metadata": {
        "id": "7uyJ0I3HF79L"
      }
    },
    {
      "cell_type": "markdown",
      "source": [
        "Algunos campos estaban 'sucios'. \"date\" tenía reviews por ejemplo, entonces cuando lo quise pasar al formato fecha me tiraba error. (Ver imágen)\n",
        "\n",
        "![Screenshot from 2022-10-17 10-59-47.png](data:image/png;base64,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)"
      ],
      "metadata": {
        "id": "-uLeSxX_PpKJ"
      }
    },
    {
      "cell_type": "code",
      "source": [
        "rdd_2.map(lambda x: (x.user_id, (x.date, x.text))).filter(lambda x:  (x[1][0] != None)   and   (x[1][1] != None)  ).filter(lambda x: \"pizza\" in x[1][1]).take(3)"
      ],
      "metadata": {
        "id": "CAL8CXdqzybO",
        "colab": {
          "base_uri": "https://localhost:8080/"
        },
        "outputId": "0f0e7bdb-648c-4808-e8ab-adf30f3eea87"
      },
      "execution_count": 95,
      "outputs": [
        {
          "output_type": "execute_result",
          "data": {
            "text/plain": [
              "[('bHSoye7R5cL-LVWLxtaxMg',\n",
              "  ('2017-09-08 23:20:19',\n",
              "   'We started with the artichoke dip, big mistake. It was cold and the chips were stale. Mentioned to our waitress, but nothing came of it.  We ordered a large pizza, thin crust which after adding toppings it was a bit pricey for pizza.  Pizza was ok, not great. Except for not being our advocate our server was good.  I have been here before for Cardinals game, it was better then. Will try another venue next time.')),\n",
              " ('3inG_FUhm28tUJc0zZ2fCg',\n",
              "  ('2017-08-16 15:43:19',\n",
              "   \"We visited once and were very disappointed in my veggie pizza and my husband's sub sandwich.  The tomato sauce was not tasty, and they did not use enough cheese on my pizza.  The dough looked and tasted like it was prepared by a machine.  Perhaps they have improved, but we are not in any rush to try a second time.\")),\n",
              " ('hPVeIiJxQwwcvp6CUXk_UA',\n",
              "  ('2018-04-15 15:46:22',\n",
              "   'I love this restaurant. The owners are the nicest family. The food is delicious!!. My favorite is bacon pizza. I love that there is a play room for my kids to play while we wait for our food.'))]"
            ]
          },
          "metadata": {},
          "execution_count": 95
        }
      ]
    },
    {
      "cell_type": "markdown",
      "source": [
        "En el take de arriba no parece haber problema. Pero **el campo date sigue con información de reviews**. Armo otro filtro con el tamaño del string (exactamente 19 caracteres, que contenga \":\" y también \"-\". Eso logra filtrarme unicamente las fechas. Luego paso a formato fecha y **para cada key (user) me quedo solo con el registro de fecha más grande (más actual)**."
      ],
      "metadata": {
        "id": "5-fkdDQgSX9v"
      }
    },
    {
      "cell_type": "code",
      "source": [
        "rdd_3 = rdd_2.map(lambda x: (x.user_id, (x.date, x.text))).filter(lambda x:  (x[1][0] != None)   and   (x[1][1] != None)  ).filter(lambda x: \"pizza\" in x[1][1])\n",
        "rdd_3 = rdd_3.filter(lambda x:  (len(x[1][0]) == 19)  and   (\":\" in x[1][0] )  and  (\"-\" in x[1][0])    )\n",
        "rdd_3 = rdd_3.reduceByKey(lambda a,b: a if  datetime.strptime(a[0], '%Y-%m-%d %H:%M:%S') > datetime.strptime(b[0], '%Y-%m-%d %H:%M:%S') else b)\n",
        "rdd_3.take(5)\n"
      ],
      "metadata": {
        "colab": {
          "base_uri": "https://localhost:8080/"
        },
        "id": "bf6KI0xPJxc4",
        "outputId": "3c1ceca5-0396-436c-818c-f1b919495d65"
      },
      "execution_count": 101,
      "outputs": [
        {
          "output_type": "execute_result",
          "data": {
            "text/plain": [
              "[('iYwyZB3O28cXcuy5Sfl_yw',\n",
              "  ('2017-07-28 23:41:16',\n",
              "   \"Finally! Great pizza & knots at the beach!!! Excellent location with a cool street presence. These guys know what they're doing.\")),\n",
              " ('bUUPVJ7l6vWSvZV1W8G8Bw',\n",
              "  ('2017-09-09 03:15:00',\n",
              "   'Came late Friday night for a bite to eat. Much of the soup, hot takeaway were cleaned up. Settled for an individual pizza to share. Crust was too thick, but we could debate pies until the cows come home. Wandered the store while it was baking and found Scharffenberger chocolate! Pie may not be up to our standard but the chocolate hit the spot. At 8pm at night, the staff was exhausted')),\n",
              " ('TA_McHKN9QEM73JJFXv3Cw',\n",
              "  ('2018-07-08 00:19:27',\n",
              "   'It really upsets me that Five Star pizza does NOT have five stars. Really great pizza. Do not get the cinnamon bite things. The pepperoni bites are super yummy. Their pizzas are very large and nicely priced. Always coupons/deals on their website when you order. Food is usually ready to be picked up in 20-30 minutes. Their staff sucks but just I ignore it.')),\n",
              " ('fOU3GfTHAR0imz2huFSbvg',\n",
              "  ('2017-08-29 22:06:02',\n",
              "   'Order from here frequently and I am never disappointed. However, today, they even exceeded my expectations ten-fold. It is a miserable, rainy day with residual rain from Hurricane Harvey and I am not in the mood to go pick up pizza so I placed an order. They were here in record time, again with piping hot delicious pizza. I complimented the delivery driver on the promptness and he was adorable. Thank you for the wonderful service and excellent food every time I order.')),\n",
              " ('NDyKRBE66Wh3LefeCPz-vw',\n",
              "  ('2018-03-16 01:20:58',\n",
              "   \"Just ordered a veggie pizza and cinnamon sticks for carry out. The pizza toppings and cheese were really fresh. The cinnamon sticks were awesome! Our order was ready in 15 min. I will never eat Papa John's again.  Thank you, Dominos\"))]"
            ]
          },
          "metadata": {},
          "execution_count": 101
        }
      ]
    },
    {
      "cell_type": "markdown",
      "source": [
        "Ahora que ya tengo la ultima review con la palabra pizza de cada user (obviamente algunos users no tienen). Hago un join con 'rdd_cached' que **también tiene el id del user como Key**, y luego el nombre y la antiguedad. \n",
        "\n"
      ],
      "metadata": {
        "id": "78pQ4KUlJTrs"
      }
    },
    {
      "cell_type": "code",
      "source": [
        "rdd_cached.join(rdd_3).take(2)\n"
      ],
      "metadata": {
        "colab": {
          "base_uri": "https://localhost:8080/"
        },
        "id": "vKiRYJ5vTlyv",
        "outputId": "b4374866-e905-4552-b531-6f7cd036257d"
      },
      "execution_count": 106,
      "outputs": [
        {
          "output_type": "execute_result",
          "data": {
            "text/plain": [
              "[('hJ804zpYWnli8KMiSGVrjw',\n",
              "  (('Lara', 4444),\n",
              "   ('2017-11-19 19:47:47',\n",
              "    \"Honestly, if I could give this place more than 5 stars I would! I had the best dinner and drinks here. From the flat bread pistachio pesto pizza, cauliflower and dates appetizer, and the crab pasta, I was blown away!  I couldn't believe how fresh the food was! The service is impeccable. After dinner, Poppi made us some great drinks and gave us amazing service. Ask for him next time you grab a drink here! The decor in the restaurant was really stunning as well. I think this is my new spot and I can't wait to come back! Also, the chef came out and spoke to us which was such a nice treat. Very humble and talented! Thanks again!\"))),\n",
              " ('9I4LrQ-vns7Pb_srlHG0DA',\n",
              "  (('Jennie', 3689),\n",
              "   ('2017-11-30 21:22:18',\n",
              "    \"We came to Mellow Mushroom for trivia on the Wednesday night before Thanksgiving. The food was great, the service was good, and the trivia game was poppin'. I enjoyed the spinach dip appetizer and a mighty meat pizza (the medium is definitely big enough to split). The glass of pinot I had was also really delicious. If you check in on yelp, you get a free tiny salad - which I also got. It was probably my favorite part of the meal. I don't know if I'd go back for just dinner - especially since I don't live close by, but I would definitely go back for trivia night.\")))]"
            ]
          },
          "metadata": {},
          "execution_count": 106
        }
      ]
    },
    {
      "cell_type": "markdown",
      "source": [
        "**Busco el user más antiguo**\n",
        "  \n",
        "user_id = key\n",
        "\n",
        "(user_id ,  ( (nombre, *dias de antiguedad en yelp*) , (fecha ultima noticia con la palabra pizza , noticia con la palabra pizza)  )   )\n",
        "\n",
        "x[1][0][1] --> Antiguedad"
      ],
      "metadata": {
        "id": "zXnrZpWtUXE-"
      }
    },
    {
      "cell_type": "code",
      "source": [
        "rdd_final = rdd_cached.join(rdd_3)\n",
        "rdd_final.reduce(lambda a,b: a if a[1][0][1] > b[1][0][1] else b)"
      ],
      "metadata": {
        "id": "wftp-_Lb798N",
        "colab": {
          "base_uri": "https://localhost:8080/"
        },
        "outputId": "0a33c25f-30fa-401c-a6ef-9438f27e4cad"
      },
      "execution_count": 113,
      "outputs": [
        {
          "output_type": "execute_result",
          "data": {
            "text/plain": [
              "('HrdxjjW4Z9WHWYGjWzaq6g',\n",
              " (('mykeah', 6558),\n",
              "  ('2021-11-03 02:02:15',\n",
              "   'Such good pizza! Their crust is bomb and their gluten free options are awesome! Get the breadsticks...so good! This has become our favorite pizza in town.')))"
            ]
          },
          "metadata": {},
          "execution_count": 113
        }
      ]
    },
    {
      "cell_type": "markdown",
      "source": [
        "El user más antiguo cuya ultima review posee la palabra pizza es **mykeah** (user_id = HrdxjjW4Z9WHWYGjWzaq6g) y su review es: **'Such good pizza! Their crust is bomb and their gluten free options are awesome! Get the breadsticks...so good! This has become our favorite pizza in town.'**"
      ],
      "metadata": {
        "id": "CGzQ8fJjiVSS"
      }
    }
  ]
}