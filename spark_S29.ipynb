{
  "nbformat": 4,
  "nbformat_minor": 0,
  "metadata": {
    "colab": {
      "provenance": [],
      "authorship_tag": "ABX9TyPrBmq9iZUwbhFG4T3+9pwW",
      "include_colab_link": true
    },
    "kernelspec": {
      "name": "python3",
      "display_name": "Python 3"
    },
    "language_info": {
      "name": "python"
    }
  },
  "cells": [
    {
      "cell_type": "markdown",
      "metadata": {
        "id": "view-in-github",
        "colab_type": "text"
      },
      "source": [
        "<a href=\"https://colab.research.google.com/github/aguscura/UBA-data-science/blob/main/spark_S29.ipynb\" target=\"_parent\"><img src=\"https://colab.research.google.com/assets/colab-badge.svg\" alt=\"Open In Colab\"/></a>"
      ]
    },
    {
      "cell_type": "markdown",
      "source": [
        "**S29:** Calcule el percentil 95 de la cantidad de fans de los usuarios de forma distribuida.(2 PUNTOS)"
      ],
      "metadata": {
        "id": "_K45HHrIXACj"
      }
    },
    {
      "cell_type": "code",
      "source": [
        "!pip install pyspark\n",
        "# !pip install -U -q PyDrive\n",
        "# !apt update\n",
        "# !apt install openjdk-8-jdk-headless -qq"
      ],
      "metadata": {
        "id": "-yBwh5lKXCTz",
        "colab": {
          "base_uri": "https://localhost:8080/"
        },
        "outputId": "f6ebda0d-07f1-41fe-fd7a-8dff6b1ca1e4"
      },
      "execution_count": 19,
      "outputs": [
        {
          "output_type": "stream",
          "name": "stdout",
          "text": [
            "Looking in indexes: https://pypi.org/simple, https://us-python.pkg.dev/colab-wheels/public/simple/\n",
            "Requirement already satisfied: pyspark in /usr/local/lib/python3.7/dist-packages (3.3.0)\n",
            "Requirement already satisfied: py4j==0.10.9.5 in /usr/local/lib/python3.7/dist-packages (from pyspark) (0.10.9.5)\n"
          ]
        }
      ]
    },
    {
      "cell_type": "code",
      "source": [
        "from pyspark.sql import *\n",
        "from pyspark.sql.functions import *\n",
        "from pyspark import SparkContext\n",
        "from pyspark.sql import SQLContext\n",
        "import pandas as pd\n",
        "from tqdm import tqdm"
      ],
      "metadata": {
        "id": "fBeYfEjEe6ni"
      },
      "execution_count": 20,
      "outputs": []
    },
    {
      "cell_type": "code",
      "source": [
        "!gdown \"1owjSBHKLx0pJMdQYtKUIfiXqBV3lfCdS\""
      ],
      "metadata": {
        "id": "LGVFU96pfCid",
        "colab": {
          "base_uri": "https://localhost:8080/"
        },
        "outputId": "59814c4a-57e5-455c-be84-9312fafa687b"
      },
      "execution_count": 21,
      "outputs": [
        {
          "output_type": "stream",
          "name": "stdout",
          "text": [
            "Downloading...\n",
            "From: https://drive.google.com/uc?id=1owjSBHKLx0pJMdQYtKUIfiXqBV3lfCdS\n",
            "To: /content/user.csv\n",
            "100% 2.71G/2.71G [00:20<00:00, 132MB/s]\n"
          ]
        }
      ]
    },
    {
      "cell_type": "code",
      "source": [
        "#Creamos el Spark Context\n",
        "spark = SparkSession.builder.getOrCreate()\n",
        "sc = spark.sparkContext"
      ],
      "metadata": {
        "id": "yN9s2RosgP4O"
      },
      "execution_count": 22,
      "outputs": []
    },
    {
      "cell_type": "markdown",
      "source": [
        "Paso el csv a parquet. Por un tema de RAM solo me traigo algunas columnas"
      ],
      "metadata": {
        "id": "YZumy6IZ4dIK"
      }
    },
    {
      "cell_type": "code",
      "source": [
        "#Chequeo columnas del df\n",
        "df = pd.read_csv(\"/content/user.csv\")\n",
        "df.columns"
      ],
      "metadata": {
        "colab": {
          "base_uri": "https://localhost:8080/"
        },
        "id": "35IoyYF24XEs",
        "outputId": "caa534cb-5b7e-4334-f0b5-3c1ff2ab130c"
      },
      "execution_count": 23,
      "outputs": [
        {
          "output_type": "execute_result",
          "data": {
            "text/plain": [
              "Index(['user_id', 'name', 'review_count', 'yelping_since', 'useful', 'funny',\n",
              "       'cool', 'elite', 'friends', 'fans', 'average_stars', 'compliment_hot',\n",
              "       'compliment_more', 'compliment_profile', 'compliment_cute',\n",
              "       'compliment_list', 'compliment_note', 'compliment_plain',\n",
              "       'compliment_cool', 'compliment_funny', 'compliment_writer',\n",
              "       'compliment_photos'],\n",
              "      dtype='object')"
            ]
          },
          "metadata": {},
          "execution_count": 23
        }
      ]
    },
    {
      "cell_type": "code",
      "source": [
        "#Paso a parquet. Acá solo tomo algunas columnas por el RAM\n",
        "df = pd.read_csv(\"/content/user.csv\", usecols=[\"user_id\",\"name\",\"fans\"])\n",
        "df.to_parquet(\"/content/user.parquet\")"
      ],
      "metadata": {
        "id": "b4gutRtG1DpC"
      },
      "execution_count": 24,
      "outputs": []
    },
    {
      "cell_type": "code",
      "source": [
        "#Leemos archivo parquet\n",
        "sqlContext = SQLContext(sc)\n",
        "rdd = sqlContext.read.parquet('/content/user.parquet').rdd.repartition(2)\n"
      ],
      "metadata": {
        "id": "eySYRnFYhXBT"
      },
      "execution_count": 25,
      "outputs": []
    },
    {
      "cell_type": "code",
      "source": [
        "#Cacheo el rdd con la transformación de traer solo los fans\n",
        "rddCached = rdd.map(lambda x: x.fans).cache()"
      ],
      "metadata": {
        "id": "qgIVSdQrz26Q"
      },
      "execution_count": 26,
      "outputs": []
    },
    {
      "cell_type": "code",
      "source": [
        "#Cantidad total de datos\n",
        "count = rddCached.count()\n",
        "count"
      ],
      "metadata": {
        "colab": {
          "base_uri": "https://localhost:8080/"
        },
        "id": "Doy6FxXvityg",
        "outputId": "afd9438d-23ff-47e0-c7bf-2cd16a9137b8"
      },
      "execution_count": 27,
      "outputs": [
        {
          "output_type": "execute_result",
          "data": {
            "text/plain": [
              "1987897"
            ]
          },
          "metadata": {},
          "execution_count": 27
        }
      ]
    },
    {
      "cell_type": "code",
      "source": [
        "#Indice de los datos que me va a dar el percentil 95. (Uso ceil para redondear para arriba)\n",
        "import math\n",
        "fans_95 = math.ceil(0.95 * count)\n",
        "fans_95"
      ],
      "metadata": {
        "colab": {
          "base_uri": "https://localhost:8080/"
        },
        "id": "qrTa17s3peC3",
        "outputId": "d7c91e7f-743a-4fd1-c4a4-f1711d58b1ba"
      },
      "execution_count": 28,
      "outputs": [
        {
          "output_type": "execute_result",
          "data": {
            "text/plain": [
              "1888503"
            ]
          },
          "metadata": {},
          "execution_count": 28
        }
      ]
    },
    {
      "cell_type": "code",
      "source": [
        "#Consulta final - Obtengo el percentil 95.\n",
        "rddCached.takeOrdered(count, lambda x: x)[fans_95]"
      ],
      "metadata": {
        "colab": {
          "base_uri": "https://localhost:8080/"
        },
        "id": "BsplQPHisF8I",
        "outputId": "c552f1d2-4cc4-455b-9971-62ff07b08f2c"
      },
      "execution_count": 29,
      "outputs": [
        {
          "output_type": "execute_result",
          "data": {
            "text/plain": [
              "4"
            ]
          },
          "metadata": {},
          "execution_count": 29
        }
      ]
    },
    {
      "cell_type": "markdown",
      "source": [
        "Rta --> El percentil 95 de la cantidad de fans de los usuarios es 4."
      ],
      "metadata": {
        "id": "XgRLunyG6uLP"
      }
    }
  ]
}