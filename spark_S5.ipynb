{
  "nbformat": 4,
  "nbformat_minor": 0,
  "metadata": {
    "colab": {
      "provenance": [],
      "authorship_tag": "ABX9TyPj0gdTlfsvmyghz+eidkhw",
      "include_colab_link": true
    },
    "kernelspec": {
      "name": "python3",
      "display_name": "Python 3"
    },
    "language_info": {
      "name": "python"
    }
  },
  "cells": [
    {
      "cell_type": "markdown",
      "metadata": {
        "id": "view-in-github",
        "colab_type": "text"
      },
      "source": [
        "<a href=\"https://colab.research.google.com/github/aguscura/UBA-data-science/blob/main/spark_S5.ipynb\" target=\"_parent\"><img src=\"https://colab.research.google.com/assets/colab-badge.svg\" alt=\"Open In Colab\"/></a>"
      ]
    },
    {
      "cell_type": "markdown",
      "source": [
        "**S5:** Para los negocios que indican su horario, calcule la probabilidad de que un negocio esté abierto a las 21 horas del domingo. Si el domingo no apareciera en el diccionario asuma que no abre.(1 PUNTO)"
      ],
      "metadata": {
        "id": "_K45HHrIXACj"
      }
    },
    {
      "cell_type": "code",
      "source": [
        "!pip install pyspark\n",
        "# !pip install -U -q PyDrive\n",
        "# !apt update\n",
        "# !apt install openjdk-8-jdk-headless -qq"
      ],
      "metadata": {
        "id": "-yBwh5lKXCTz",
        "colab": {
          "base_uri": "https://localhost:8080/"
        },
        "outputId": "113d5893-c456-4162-c15b-6bf77e3976b6"
      },
      "execution_count": 2,
      "outputs": [
        {
          "output_type": "stream",
          "name": "stdout",
          "text": [
            "Looking in indexes: https://pypi.org/simple, https://us-python.pkg.dev/colab-wheels/public/simple/\n",
            "Collecting pyspark\n",
            "  Downloading pyspark-3.3.0.tar.gz (281.3 MB)\n",
            "\u001b[K     |████████████████████████████████| 281.3 MB 40 kB/s \n",
            "\u001b[?25hCollecting py4j==0.10.9.5\n",
            "  Downloading py4j-0.10.9.5-py2.py3-none-any.whl (199 kB)\n",
            "\u001b[K     |████████████████████████████████| 199 kB 45.5 MB/s \n",
            "\u001b[?25hBuilding wheels for collected packages: pyspark\n",
            "  Building wheel for pyspark (setup.py) ... \u001b[?25l\u001b[?25hdone\n",
            "  Created wheel for pyspark: filename=pyspark-3.3.0-py2.py3-none-any.whl size=281764026 sha256=040c13f5b33e1e94adf1331cd8502a58c39bba209196ecfe70335ca7a248734e\n",
            "  Stored in directory: /root/.cache/pip/wheels/7a/8e/1b/f73a52650d2e5f337708d9f6a1750d451a7349a867f928b885\n",
            "Successfully built pyspark\n",
            "Installing collected packages: py4j, pyspark\n",
            "Successfully installed py4j-0.10.9.5 pyspark-3.3.0\n"
          ]
        }
      ]
    },
    {
      "cell_type": "code",
      "source": [
        "from pydrive.auth import GoogleAuth\n",
        "from pydrive.drive import GoogleDrive\n",
        "from google.colab import auth\n",
        "from oauth2client.client import GoogleCredentials\n",
        "from pyspark.sql import *\n",
        "from pyspark.sql.functions import *\n",
        "from pyspark import SparkContext\n",
        "from pyspark.sql import SQLContext\n",
        "import pandas as pd\n",
        "from tqdm import tqdm\n",
        "import json"
      ],
      "metadata": {
        "id": "fBeYfEjEe6ni"
      },
      "execution_count": 51,
      "outputs": []
    },
    {
      "cell_type": "code",
      "source": [
        "!gdown \"14sjAJe8wBi7N_1xxJFCm7Mtzrm_gFiPj\""
      ],
      "metadata": {
        "id": "LGVFU96pfCid",
        "colab": {
          "base_uri": "https://localhost:8080/"
        },
        "outputId": "f648dbb7-3a14-4c2b-aa4a-4c278a23c7e5"
      },
      "execution_count": 4,
      "outputs": [
        {
          "output_type": "stream",
          "name": "stdout",
          "text": [
            "Downloading...\n",
            "From: https://drive.google.com/uc?id=14sjAJe8wBi7N_1xxJFCm7Mtzrm_gFiPj\n",
            "To: /content/business.csv\n",
            "100% 99.3M/99.3M [00:00<00:00, 124MB/s]\n"
          ]
        }
      ]
    },
    {
      "cell_type": "code",
      "source": [
        "#Chequeo columnas del df\n",
        "df = pd.read_csv(\"/content/business.csv\")\n",
        "df.head(5)"
      ],
      "metadata": {
        "colab": {
          "base_uri": "https://localhost:8080/",
          "height": 441
        },
        "id": "UwHrsM4AAotZ",
        "outputId": "f9dc05c3-2423-428d-afcc-b9d84e03df18"
      },
      "execution_count": 6,
      "outputs": [
        {
          "output_type": "execute_result",
          "data": {
            "text/plain": [
              "              business_id                      name  \\\n",
              "0  Pns2l4eNsfO8kk83dixA6A  Abby Rappoport, LAC, CMQ   \n",
              "1  mpf3x-BjTdTEA3yCZrAYPw             The UPS Store   \n",
              "2  tUFrWirKiKi_TAnsVWINQQ                    Target   \n",
              "3  MTSW4McQd7CbVtyjqoe9mw        St Honore Pastries   \n",
              "4  mWMc6_wTdE0EUBKIGXDVfA  Perkiomen Valley Brewery   \n",
              "\n",
              "                           address           city state postal_code  \\\n",
              "0           1616 Chapala St, Ste 2  Santa Barbara    CA       93101   \n",
              "1  87 Grasso Plaza Shopping Center         Affton    MO       63123   \n",
              "2             5255 E Broadway Blvd         Tucson    AZ       85711   \n",
              "3                      935 Race St   Philadelphia    PA       19107   \n",
              "4                    101 Walnut St     Green Lane    PA       18054   \n",
              "\n",
              "    latitude   longitude  stars  review_count  is_open  \\\n",
              "0  34.426679 -119.711197    5.0           0.0        0   \n",
              "1  38.551126  -90.335695    3.0           8.0        1   \n",
              "2  32.223236 -110.880452    3.5          11.0        0   \n",
              "3  39.955505  -75.155564    4.0          37.0        1   \n",
              "4  40.338183  -75.471659    4.5          13.0        1   \n",
              "\n",
              "                                          attributes  \\\n",
              "0                      {'ByAppointmentOnly': 'True'}   \n",
              "1             {'BusinessAcceptsCreditCards': 'True'}   \n",
              "2  {'BikeParking': 'True', 'BusinessAcceptsCredit...   \n",
              "3  {'RestaurantsDelivery': 'False', 'OutdoorSeati...   \n",
              "4  {'BusinessAcceptsCreditCards': 'True', 'Wheelc...   \n",
              "\n",
              "                                          categories  \\\n",
              "0  Doctors, Traditional Chinese Medicine, Naturop...   \n",
              "1  Shipping Centers, Local Services, Notaries, Ma...   \n",
              "2  Department Stores, Shopping, Fashion, Home & G...   \n",
              "3  Restaurants, Food, Bubble Tea, Coffee & Tea, B...   \n",
              "4                          Brewpubs, Breweries, Food   \n",
              "\n",
              "                                               hours  \n",
              "0                                                NaN  \n",
              "1  {'Monday': '0:0-0:0', 'Tuesday': '8:0-18:30', ...  \n",
              "2  {'Monday': '8:0-22:0', 'Tuesday': '8:0-22:0', ...  \n",
              "3  {'Monday': '7:0-20:0', 'Tuesday': '7:0-20:0', ...  \n",
              "4  {'Wednesday': '14:0-22:0', 'Thursday': '16:0-2...  "
            ],
            "text/html": [
              "\n",
              "  <div id=\"df-1324cfdc-8b95-487b-af9a-a5a79aaa0c0e\">\n",
              "    <div class=\"colab-df-container\">\n",
              "      <div>\n",
              "<style scoped>\n",
              "    .dataframe tbody tr th:only-of-type {\n",
              "        vertical-align: middle;\n",
              "    }\n",
              "\n",
              "    .dataframe tbody tr th {\n",
              "        vertical-align: top;\n",
              "    }\n",
              "\n",
              "    .dataframe thead th {\n",
              "        text-align: right;\n",
              "    }\n",
              "</style>\n",
              "<table border=\"1\" class=\"dataframe\">\n",
              "  <thead>\n",
              "    <tr style=\"text-align: right;\">\n",
              "      <th></th>\n",
              "      <th>business_id</th>\n",
              "      <th>name</th>\n",
              "      <th>address</th>\n",
              "      <th>city</th>\n",
              "      <th>state</th>\n",
              "      <th>postal_code</th>\n",
              "      <th>latitude</th>\n",
              "      <th>longitude</th>\n",
              "      <th>stars</th>\n",
              "      <th>review_count</th>\n",
              "      <th>is_open</th>\n",
              "      <th>attributes</th>\n",
              "      <th>categories</th>\n",
              "      <th>hours</th>\n",
              "    </tr>\n",
              "  </thead>\n",
              "  <tbody>\n",
              "    <tr>\n",
              "      <th>0</th>\n",
              "      <td>Pns2l4eNsfO8kk83dixA6A</td>\n",
              "      <td>Abby Rappoport, LAC, CMQ</td>\n",
              "      <td>1616 Chapala St, Ste 2</td>\n",
              "      <td>Santa Barbara</td>\n",
              "      <td>CA</td>\n",
              "      <td>93101</td>\n",
              "      <td>34.426679</td>\n",
              "      <td>-119.711197</td>\n",
              "      <td>5.0</td>\n",
              "      <td>0.0</td>\n",
              "      <td>0</td>\n",
              "      <td>{'ByAppointmentOnly': 'True'}</td>\n",
              "      <td>Doctors, Traditional Chinese Medicine, Naturop...</td>\n",
              "      <td>NaN</td>\n",
              "    </tr>\n",
              "    <tr>\n",
              "      <th>1</th>\n",
              "      <td>mpf3x-BjTdTEA3yCZrAYPw</td>\n",
              "      <td>The UPS Store</td>\n",
              "      <td>87 Grasso Plaza Shopping Center</td>\n",
              "      <td>Affton</td>\n",
              "      <td>MO</td>\n",
              "      <td>63123</td>\n",
              "      <td>38.551126</td>\n",
              "      <td>-90.335695</td>\n",
              "      <td>3.0</td>\n",
              "      <td>8.0</td>\n",
              "      <td>1</td>\n",
              "      <td>{'BusinessAcceptsCreditCards': 'True'}</td>\n",
              "      <td>Shipping Centers, Local Services, Notaries, Ma...</td>\n",
              "      <td>{'Monday': '0:0-0:0', 'Tuesday': '8:0-18:30', ...</td>\n",
              "    </tr>\n",
              "    <tr>\n",
              "      <th>2</th>\n",
              "      <td>tUFrWirKiKi_TAnsVWINQQ</td>\n",
              "      <td>Target</td>\n",
              "      <td>5255 E Broadway Blvd</td>\n",
              "      <td>Tucson</td>\n",
              "      <td>AZ</td>\n",
              "      <td>85711</td>\n",
              "      <td>32.223236</td>\n",
              "      <td>-110.880452</td>\n",
              "      <td>3.5</td>\n",
              "      <td>11.0</td>\n",
              "      <td>0</td>\n",
              "      <td>{'BikeParking': 'True', 'BusinessAcceptsCredit...</td>\n",
              "      <td>Department Stores, Shopping, Fashion, Home &amp; G...</td>\n",
              "      <td>{'Monday': '8:0-22:0', 'Tuesday': '8:0-22:0', ...</td>\n",
              "    </tr>\n",
              "    <tr>\n",
              "      <th>3</th>\n",
              "      <td>MTSW4McQd7CbVtyjqoe9mw</td>\n",
              "      <td>St Honore Pastries</td>\n",
              "      <td>935 Race St</td>\n",
              "      <td>Philadelphia</td>\n",
              "      <td>PA</td>\n",
              "      <td>19107</td>\n",
              "      <td>39.955505</td>\n",
              "      <td>-75.155564</td>\n",
              "      <td>4.0</td>\n",
              "      <td>37.0</td>\n",
              "      <td>1</td>\n",
              "      <td>{'RestaurantsDelivery': 'False', 'OutdoorSeati...</td>\n",
              "      <td>Restaurants, Food, Bubble Tea, Coffee &amp; Tea, B...</td>\n",
              "      <td>{'Monday': '7:0-20:0', 'Tuesday': '7:0-20:0', ...</td>\n",
              "    </tr>\n",
              "    <tr>\n",
              "      <th>4</th>\n",
              "      <td>mWMc6_wTdE0EUBKIGXDVfA</td>\n",
              "      <td>Perkiomen Valley Brewery</td>\n",
              "      <td>101 Walnut St</td>\n",
              "      <td>Green Lane</td>\n",
              "      <td>PA</td>\n",
              "      <td>18054</td>\n",
              "      <td>40.338183</td>\n",
              "      <td>-75.471659</td>\n",
              "      <td>4.5</td>\n",
              "      <td>13.0</td>\n",
              "      <td>1</td>\n",
              "      <td>{'BusinessAcceptsCreditCards': 'True', 'Wheelc...</td>\n",
              "      <td>Brewpubs, Breweries, Food</td>\n",
              "      <td>{'Wednesday': '14:0-22:0', 'Thursday': '16:0-2...</td>\n",
              "    </tr>\n",
              "  </tbody>\n",
              "</table>\n",
              "</div>\n",
              "      <button class=\"colab-df-convert\" onclick=\"convertToInteractive('df-1324cfdc-8b95-487b-af9a-a5a79aaa0c0e')\"\n",
              "              title=\"Convert this dataframe to an interactive table.\"\n",
              "              style=\"display:none;\">\n",
              "        \n",
              "  <svg xmlns=\"http://www.w3.org/2000/svg\" height=\"24px\"viewBox=\"0 0 24 24\"\n",
              "       width=\"24px\">\n",
              "    <path d=\"M0 0h24v24H0V0z\" fill=\"none\"/>\n",
              "    <path d=\"M18.56 5.44l.94 2.06.94-2.06 2.06-.94-2.06-.94-.94-2.06-.94 2.06-2.06.94zm-11 1L8.5 8.5l.94-2.06 2.06-.94-2.06-.94L8.5 2.5l-.94 2.06-2.06.94zm10 10l.94 2.06.94-2.06 2.06-.94-2.06-.94-.94-2.06-.94 2.06-2.06.94z\"/><path d=\"M17.41 7.96l-1.37-1.37c-.4-.4-.92-.59-1.43-.59-.52 0-1.04.2-1.43.59L10.3 9.45l-7.72 7.72c-.78.78-.78 2.05 0 2.83L4 21.41c.39.39.9.59 1.41.59.51 0 1.02-.2 1.41-.59l7.78-7.78 2.81-2.81c.8-.78.8-2.07 0-2.86zM5.41 20L4 18.59l7.72-7.72 1.47 1.35L5.41 20z\"/>\n",
              "  </svg>\n",
              "      </button>\n",
              "      \n",
              "  <style>\n",
              "    .colab-df-container {\n",
              "      display:flex;\n",
              "      flex-wrap:wrap;\n",
              "      gap: 12px;\n",
              "    }\n",
              "\n",
              "    .colab-df-convert {\n",
              "      background-color: #E8F0FE;\n",
              "      border: none;\n",
              "      border-radius: 50%;\n",
              "      cursor: pointer;\n",
              "      display: none;\n",
              "      fill: #1967D2;\n",
              "      height: 32px;\n",
              "      padding: 0 0 0 0;\n",
              "      width: 32px;\n",
              "    }\n",
              "\n",
              "    .colab-df-convert:hover {\n",
              "      background-color: #E2EBFA;\n",
              "      box-shadow: 0px 1px 2px rgba(60, 64, 67, 0.3), 0px 1px 3px 1px rgba(60, 64, 67, 0.15);\n",
              "      fill: #174EA6;\n",
              "    }\n",
              "\n",
              "    [theme=dark] .colab-df-convert {\n",
              "      background-color: #3B4455;\n",
              "      fill: #D2E3FC;\n",
              "    }\n",
              "\n",
              "    [theme=dark] .colab-df-convert:hover {\n",
              "      background-color: #434B5C;\n",
              "      box-shadow: 0px 1px 3px 1px rgba(0, 0, 0, 0.15);\n",
              "      filter: drop-shadow(0px 1px 2px rgba(0, 0, 0, 0.3));\n",
              "      fill: #FFFFFF;\n",
              "    }\n",
              "  </style>\n",
              "\n",
              "      <script>\n",
              "        const buttonEl =\n",
              "          document.querySelector('#df-1324cfdc-8b95-487b-af9a-a5a79aaa0c0e button.colab-df-convert');\n",
              "        buttonEl.style.display =\n",
              "          google.colab.kernel.accessAllowed ? 'block' : 'none';\n",
              "\n",
              "        async function convertToInteractive(key) {\n",
              "          const element = document.querySelector('#df-1324cfdc-8b95-487b-af9a-a5a79aaa0c0e');\n",
              "          const dataTable =\n",
              "            await google.colab.kernel.invokeFunction('convertToInteractive',\n",
              "                                                     [key], {});\n",
              "          if (!dataTable) return;\n",
              "\n",
              "          const docLinkHtml = 'Like what you see? Visit the ' +\n",
              "            '<a target=\"_blank\" href=https://colab.research.google.com/notebooks/data_table.ipynb>data table notebook</a>'\n",
              "            + ' to learn more about interactive tables.';\n",
              "          element.innerHTML = '';\n",
              "          dataTable['output_type'] = 'display_data';\n",
              "          await google.colab.output.renderOutput(dataTable, element);\n",
              "          const docLink = document.createElement('div');\n",
              "          docLink.innerHTML = docLinkHtml;\n",
              "          element.appendChild(docLink);\n",
              "        }\n",
              "      </script>\n",
              "    </div>\n",
              "  </div>\n",
              "  "
            ]
          },
          "metadata": {},
          "execution_count": 6
        }
      ]
    },
    {
      "cell_type": "code",
      "source": [
        "#Creamos el Spark Context\n",
        "spark = SparkSession.builder.getOrCreate()\n",
        "sc = spark.sparkContext"
      ],
      "metadata": {
        "id": "yN9s2RosgP4O"
      },
      "execution_count": 8,
      "outputs": []
    },
    {
      "cell_type": "markdown",
      "source": [
        "Paso el csv a parquet. Por un tema de RAM solo me traigo algunas columnas"
      ],
      "metadata": {
        "id": "YZumy6IZ4dIK"
      }
    },
    {
      "cell_type": "code",
      "source": [
        "#Paso a parquet. Acá solo tomo algunas columnas por el RAM\n",
        "df = pd.read_csv(\"/content/business.csv\", usecols=[\"business_id\",\"name\",\"is_open\", \"hours\"])\n",
        "df.to_parquet(\"/content/business.parquet\")"
      ],
      "metadata": {
        "id": "b4gutRtG1DpC"
      },
      "execution_count": 7,
      "outputs": []
    },
    {
      "cell_type": "code",
      "source": [
        "#Leemos archivo parquet\n",
        "sqlContext = SQLContext(sc)\n",
        "rdd = sqlContext.read.parquet('/content/business.parquet').rdd.repartition(2)\n"
      ],
      "metadata": {
        "colab": {
          "base_uri": "https://localhost:8080/"
        },
        "id": "eySYRnFYhXBT",
        "outputId": "7e1ff02d-3529-48ed-dbc3-8f7cd25e00e8"
      },
      "execution_count": 9,
      "outputs": [
        {
          "output_type": "stream",
          "name": "stderr",
          "text": [
            "/usr/local/lib/python3.7/dist-packages/pyspark/sql/context.py:114: FutureWarning: Deprecated in 3.0.0. Use SparkSession.builder.getOrCreate() instead.\n",
            "  FutureWarning,\n"
          ]
        }
      ]
    },
    {
      "cell_type": "markdown",
      "source": [
        "\"para los negocios que indican su horario\"... hay que filtrar.\n",
        "\n",
        "**EL ANALISIS SOLO CONTEMPLA LOS NEGOCIOS QUE INDICAN EL HORARIO.**"
      ],
      "metadata": {
        "id": "4SoOMGePBExG"
      }
    },
    {
      "cell_type": "code",
      "source": [
        "#Todos los registros\n",
        "rdd.count()"
      ],
      "metadata": {
        "colab": {
          "base_uri": "https://localhost:8080/"
        },
        "id": "R5ezZm6cEGb-",
        "outputId": "4aae9c0c-5cb2-4e1d-8e10-933837a8be9c"
      },
      "execution_count": 36,
      "outputs": [
        {
          "output_type": "execute_result",
          "data": {
            "text/plain": [
              "150346"
            ]
          },
          "metadata": {},
          "execution_count": 36
        }
      ]
    },
    {
      "cell_type": "code",
      "source": [
        "#Registros nulos\n",
        "rdd.map(lambda x: x.hours).filter(pd.isnull).count()"
      ],
      "metadata": {
        "colab": {
          "base_uri": "https://localhost:8080/"
        },
        "id": "cDULXB9hEJmb",
        "outputId": "ce091836-b251-4196-8084-100ef98adcd6"
      },
      "execution_count": 37,
      "outputs": [
        {
          "output_type": "execute_result",
          "data": {
            "text/plain": [
              "23223"
            ]
          },
          "metadata": {},
          "execution_count": 37
        }
      ]
    },
    {
      "cell_type": "code",
      "source": [
        "#Filtro los negocios que no indican su horario y los cuento - nulos + no nulos = totales (check)\n",
        "totales_con_horario = rdd.map(lambda x: x.hours).filter(pd.notnull).count()\n",
        "totales_con_horario"
      ],
      "metadata": {
        "id": "qgIVSdQrz26Q",
        "colab": {
          "base_uri": "https://localhost:8080/"
        },
        "outputId": "61653dc6-7fdd-484d-a908-01ad43bc10c2"
      },
      "execution_count": 143,
      "outputs": [
        {
          "output_type": "execute_result",
          "data": {
            "text/plain": [
              "127123"
            ]
          },
          "metadata": {},
          "execution_count": 143
        }
      ]
    },
    {
      "cell_type": "code",
      "source": [
        "rdd.take(5)"
      ],
      "metadata": {
        "colab": {
          "base_uri": "https://localhost:8080/"
        },
        "id": "VtoitmgIHouK",
        "outputId": "4839a36f-2af2-4360-c10e-b0bd0a2b9755"
      },
      "execution_count": 53,
      "outputs": [
        {
          "output_type": "execute_result",
          "data": {
            "text/plain": [
              "[Row(business_id='Pns2l4eNsfO8kk83dixA6A', name='Abby Rappoport, LAC, CMQ', is_open=0, hours=None),\n",
              " Row(business_id='mpf3x-BjTdTEA3yCZrAYPw', name='The UPS Store', is_open=1, hours=\"{'Monday': '0:0-0:0', 'Tuesday': '8:0-18:30', 'Wednesday': '8:0-18:30', 'Thursday': '8:0-18:30', 'Friday': '8:0-18:30', 'Saturday': '8:0-14:0'}\"),\n",
              " Row(business_id='tUFrWirKiKi_TAnsVWINQQ', name='Target', is_open=0, hours=\"{'Monday': '8:0-22:0', 'Tuesday': '8:0-22:0', 'Wednesday': '8:0-22:0', 'Thursday': '8:0-22:0', 'Friday': '8:0-23:0', 'Saturday': '8:0-23:0', 'Sunday': '8:0-22:0'}\"),\n",
              " Row(business_id='MTSW4McQd7CbVtyjqoe9mw', name='St Honore Pastries', is_open=1, hours=\"{'Monday': '7:0-20:0', 'Tuesday': '7:0-20:0', 'Wednesday': '7:0-20:0', 'Thursday': '7:0-20:0', 'Friday': '7:0-21:0', 'Saturday': '7:0-21:0', 'Sunday': '7:0-21:0'}\"),\n",
              " Row(business_id='mWMc6_wTdE0EUBKIGXDVfA', name='Perkiomen Valley Brewery', is_open=1, hours=\"{'Wednesday': '14:0-22:0', 'Thursday': '16:0-22:0', 'Friday': '12:0-22:0', 'Saturday': '12:0-22:0', 'Sunday': '12:0-18:0'}\")]"
            ]
          },
          "metadata": {},
          "execution_count": 53
        }
      ]
    },
    {
      "cell_type": "code",
      "source": [
        "rdd.map(lambda x: x.hours).filter(pd.notnull).take(5)"
      ],
      "metadata": {
        "colab": {
          "base_uri": "https://localhost:8080/"
        },
        "id": "Doy6FxXvityg",
        "outputId": "3ef9241b-f4d4-44fc-a7f2-e4fbd922101a"
      },
      "execution_count": 56,
      "outputs": [
        {
          "output_type": "execute_result",
          "data": {
            "text/plain": [
              "[\"{'Monday': '0:0-0:0', 'Tuesday': '8:0-18:30', 'Wednesday': '8:0-18:30', 'Thursday': '8:0-18:30', 'Friday': '8:0-18:30', 'Saturday': '8:0-14:0'}\",\n",
              " \"{'Monday': '8:0-22:0', 'Tuesday': '8:0-22:0', 'Wednesday': '8:0-22:0', 'Thursday': '8:0-22:0', 'Friday': '8:0-23:0', 'Saturday': '8:0-23:0', 'Sunday': '8:0-22:0'}\",\n",
              " \"{'Monday': '7:0-20:0', 'Tuesday': '7:0-20:0', 'Wednesday': '7:0-20:0', 'Thursday': '7:0-20:0', 'Friday': '7:0-21:0', 'Saturday': '7:0-21:0', 'Sunday': '7:0-21:0'}\",\n",
              " \"{'Wednesday': '14:0-22:0', 'Thursday': '16:0-22:0', 'Friday': '12:0-22:0', 'Saturday': '12:0-22:0', 'Sunday': '12:0-18:0'}\",\n",
              " \"{'Monday': '0:0-0:0', 'Tuesday': '6:0-22:0', 'Wednesday': '6:0-22:0', 'Thursday': '6:0-22:0', 'Friday': '9:0-0:0', 'Saturday': '9:0-22:0', 'Sunday': '8:0-22:0'}\"]"
            ]
          },
          "metadata": {},
          "execution_count": 56
        }
      ]
    },
    {
      "cell_type": "code",
      "source": [
        "hours_cache = rdd.map(lambda x: x.hours).filter(pd.notnull).cache()\n",
        "hours_cache.take(5)"
      ],
      "metadata": {
        "colab": {
          "base_uri": "https://localhost:8080/"
        },
        "id": "rVCbcZJmEtQC",
        "outputId": "a87e10a3-3df7-45f2-fbeb-0ea4d1d70ce4"
      },
      "execution_count": 70,
      "outputs": [
        {
          "output_type": "execute_result",
          "data": {
            "text/plain": [
              "[\"{'Monday': '0:0-0:0', 'Tuesday': '8:0-18:30', 'Wednesday': '8:0-18:30', 'Thursday': '8:0-18:30', 'Friday': '8:0-18:30', 'Saturday': '8:0-14:0'}\",\n",
              " \"{'Monday': '8:0-22:0', 'Tuesday': '8:0-22:0', 'Wednesday': '8:0-22:0', 'Thursday': '8:0-22:0', 'Friday': '8:0-23:0', 'Saturday': '8:0-23:0', 'Sunday': '8:0-22:0'}\",\n",
              " \"{'Monday': '7:0-20:0', 'Tuesday': '7:0-20:0', 'Wednesday': '7:0-20:0', 'Thursday': '7:0-20:0', 'Friday': '7:0-21:0', 'Saturday': '7:0-21:0', 'Sunday': '7:0-21:0'}\",\n",
              " \"{'Wednesday': '14:0-22:0', 'Thursday': '16:0-22:0', 'Friday': '12:0-22:0', 'Saturday': '12:0-22:0', 'Sunday': '12:0-18:0'}\",\n",
              " \"{'Monday': '0:0-0:0', 'Tuesday': '6:0-22:0', 'Wednesday': '6:0-22:0', 'Thursday': '6:0-22:0', 'Friday': '9:0-0:0', 'Saturday': '9:0-22:0', 'Sunday': '8:0-22:0'}\"]"
            ]
          },
          "metadata": {},
          "execution_count": 70
        }
      ]
    },
    {
      "cell_type": "code",
      "source": [
        "dict_hours = hours_cache.map(lambda x: json.loads(x.replace(\"\\'\", \"\\\"\")))\n",
        "dict_hours.take(2)"
      ],
      "metadata": {
        "colab": {
          "base_uri": "https://localhost:8080/"
        },
        "id": "j7-Qz0fkJ4UU",
        "outputId": "8cecd4b7-d96a-4bf8-d4d0-0f7c443a0081"
      },
      "execution_count": 122,
      "outputs": [
        {
          "output_type": "execute_result",
          "data": {
            "text/plain": [
              "[{'Monday': '0:0-0:0',\n",
              "  'Tuesday': '8:0-18:30',\n",
              "  'Wednesday': '8:0-18:30',\n",
              "  'Thursday': '8:0-18:30',\n",
              "  'Friday': '8:0-18:30',\n",
              "  'Saturday': '8:0-14:0'},\n",
              " {'Monday': '8:0-22:0',\n",
              "  'Tuesday': '8:0-22:0',\n",
              "  'Wednesday': '8:0-22:0',\n",
              "  'Thursday': '8:0-22:0',\n",
              "  'Friday': '8:0-23:0',\n",
              "  'Saturday': '8:0-23:0',\n",
              "  'Sunday': '8:0-22:0'}]"
            ]
          },
          "metadata": {},
          "execution_count": 122
        }
      ]
    },
    {
      "cell_type": "code",
      "source": [
        "sunday_hours = dict_hours.map( lambda x: x[\"Sunday\"].split(\"-\") if \"Sunday\" in x else [\"0:0\",\"0:0\"])\n",
        "sunday_hours.take(20)"
      ],
      "metadata": {
        "colab": {
          "base_uri": "https://localhost:8080/"
        },
        "id": "Yptd63fXKvtt",
        "outputId": "8d5fb25e-938b-4358-ad87-4ed3b481434f"
      },
      "execution_count": 138,
      "outputs": [
        {
          "output_type": "execute_result",
          "data": {
            "text/plain": [
              "[['0:0', '0:0'],\n",
              " ['8:0', '22:0'],\n",
              " ['7:0', '21:0'],\n",
              " ['12:0', '18:0'],\n",
              " ['8:0', '22:0'],\n",
              " ['12:0', '18:0'],\n",
              " ['0:0', '0:0'],\n",
              " ['6:0', '21:0'],\n",
              " ['10:0', '17:0'],\n",
              " ['11:0', '19:0'],\n",
              " ['0:0', '0:0'],\n",
              " ['11:0', '21:0'],\n",
              " ['0:0', '0:0'],\n",
              " ['11:0', '18:0'],\n",
              " ['0:0', '0:0'],\n",
              " ['11:0', '0:0'],\n",
              " ['10:0', '0:0'],\n",
              " ['9:0', '15:0'],\n",
              " ['16:0', '21:30'],\n",
              " ['0:0', '0:0']]"
            ]
          },
          "metadata": {},
          "execution_count": 138
        }
      ]
    },
    {
      "cell_type": "code",
      "source": [
        "def time_to_num(time_str):\n",
        "    hh, mm = map(int, time_str.split(':'))\n",
        "    return ((mm/60) + hh)"
      ],
      "metadata": {
        "id": "lj4Vvh6DS56b"
      },
      "execution_count": 132,
      "outputs": []
    },
    {
      "cell_type": "code",
      "source": [
        "hours = sunday_hours.map(lambda x: [time_to_num(x[0]), time_to_num(x[1])]  )\n",
        "hours.take(20)"
      ],
      "metadata": {
        "colab": {
          "base_uri": "https://localhost:8080/"
        },
        "id": "lH79qTwESoqy",
        "outputId": "fbcd6965-d894-4f88-c9db-d4dad80981fd"
      },
      "execution_count": 139,
      "outputs": [
        {
          "output_type": "execute_result",
          "data": {
            "text/plain": [
              "[[0.0, 0.0],\n",
              " [8.0, 22.0],\n",
              " [7.0, 21.0],\n",
              " [12.0, 18.0],\n",
              " [8.0, 22.0],\n",
              " [12.0, 18.0],\n",
              " [0.0, 0.0],\n",
              " [6.0, 21.0],\n",
              " [10.0, 17.0],\n",
              " [11.0, 19.0],\n",
              " [0.0, 0.0],\n",
              " [11.0, 21.0],\n",
              " [0.0, 0.0],\n",
              " [11.0, 18.0],\n",
              " [0.0, 0.0],\n",
              " [11.0, 0.0],\n",
              " [10.0, 0.0],\n",
              " [9.0, 15.0],\n",
              " [16.0, 21.5],\n",
              " [0.0, 0.0]]"
            ]
          },
          "metadata": {},
          "execution_count": 139
        }
      ]
    },
    {
      "cell_type": "code",
      "source": [
        "#Considero que a las 21 el negocio cierra, por lo que NO está abierto.\n",
        "abiertos = hours.map(lambda x: 1 if ( (21 > float(x[0])) and (21 < float(x[1]) ) ) else 0).reduce(lambda a,b: a+b)\n",
        "abiertos"
      ],
      "metadata": {
        "colab": {
          "base_uri": "https://localhost:8080/"
        },
        "id": "Co-31-iHNPrQ",
        "outputId": "038cdb0f-6e67-499d-87c7-b39234447287"
      },
      "execution_count": 142,
      "outputs": [
        {
          "output_type": "execute_result",
          "data": {
            "text/plain": [
              "15479"
            ]
          },
          "metadata": {},
          "execution_count": 142
        }
      ]
    },
    {
      "cell_type": "code",
      "source": [
        "(abiertos/totales_con_horario) *100"
      ],
      "metadata": {
        "colab": {
          "base_uri": "https://localhost:8080/"
        },
        "id": "TJI855FeUa4D",
        "outputId": "380f42f7-c1d1-4e35-e3f3-ae233c06d9ca"
      },
      "execution_count": 144,
      "outputs": [
        {
          "output_type": "execute_result",
          "data": {
            "text/plain": [
              "12.176396088827355"
            ]
          },
          "metadata": {},
          "execution_count": 144
        }
      ]
    },
    {
      "cell_type": "markdown",
      "source": [
        "15479 locales de los 127123 locales que poseen horario están abiertos los domingos a las 21hs.\n",
        "\n",
        "**12.176%**"
      ],
      "metadata": {
        "id": "TP-aXvuXUFIs"
      }
    }
  ]
}