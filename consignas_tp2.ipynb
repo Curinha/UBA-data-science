{
  "nbformat": 4,
  "nbformat_minor": 0,
  "metadata": {
    "colab": {
      "provenance": [],
      "authorship_tag": "ABX9TyMjlnAqvxNhq4deJOfwnHY0",
      "include_colab_link": true
    },
    "kernelspec": {
      "name": "python3",
      "display_name": "Python 3"
    },
    "language_info": {
      "name": "python"
    }
  },
  "cells": [
    {
      "cell_type": "markdown",
      "metadata": {
        "id": "view-in-github",
        "colab_type": "text"
      },
      "source": [
        "<a href=\"https://colab.research.google.com/github/aguscura/UBA-data-science/blob/main/consignas_tp2.ipynb\" target=\"_parent\"><img src=\"https://colab.research.google.com/assets/colab-badge.svg\" alt=\"Open In Colab\"/></a>"
      ]
    },
    {
      "cell_type": "code",
      "execution_count": null,
      "metadata": {
        "colab": {
          "base_uri": "https://localhost:8080/"
        },
        "id": "xZSnbueXRGIW",
        "outputId": "3d83b8cc-68d1-4b7f-8828-01801f995cd3"
      },
      "outputs": [
        {
          "output_type": "stream",
          "name": "stdout",
          "text": [
            "{'P29', 'P17', 'P5', 'P32'}\n"
          ]
        }
      ],
      "source": [
        "import random\n",
        "\n",
        "EMAIL = \"aguscura9@gmail.com\"\n",
        "\n",
        "dif1 = [f\"P{i}\" for i in range(1,14)]\n",
        "\n",
        "dif2 = [f\"P{i}\" for i in range(14,31)]\n",
        "\n",
        "dif3 = [f\"P{i}\" for i in range(31,43)]\n",
        "\n",
        "dificultad_ejs = {1: set(dif1), 2: set(dif2), 3: set(dif3)}\n",
        "\n",
        "ejercicios = set()\n",
        "\n",
        "random.seed(hash(EMAIL))\n",
        "\n",
        "for dif in [1,2,2,3]:\n",
        "    opciones_preliminares = dificultad_ejs[dif]\n",
        "    opciones = opciones_preliminares-ejercicios\n",
        "    elegido = random.choice(list(opciones))\n",
        "    ejercicios.add(elegido)\n",
        "\n",
        "print(ejercicios)"
      ]
    },
    {
      "cell_type": "markdown",
      "source": [
        "S29: Calcule el percentil 95 de la cantidad de fans de los usuarios de forma distribuida.(2 PUNTOS)\n",
        "\n",
        "S17: La antigüedad promedio de los usuarios y el nombre del usuario más antiguo cuyas última review contenga la palabra ‘pizza’ (2 PUNTOS)\n",
        "\n",
        "S5: Para los negocios que indican su horario, calcule la probabilidad de que un negocio esté abierto a las 21 horas del domingo. Si el domingo no apareciera en el diccionario asuma que no abre.(1 PUNTO)\n",
        "\n",
        "S32: Yelp tiene la teoría de que quienes hacen las reviews más útiles en la plataforma son aquellos usuarios con más antigüedad. Para probar está hipótesis para cada review consiga la suma total de sus votos (funny + cool + useful) y correlacionela con la antigüedad del usuario al momento de hacer la review. (3 PUNTOS)."
      ],
      "metadata": {
        "id": "noaU7qabnhlh"
      }
    },
    {
      "cell_type": "code",
      "source": [],
      "metadata": {
        "id": "qPNqR7BVm7Mn"
      },
      "execution_count": null,
      "outputs": []
    },
    {
      "cell_type": "code",
      "source": [],
      "metadata": {
        "id": "gndVS0KAn4gI"
      },
      "execution_count": null,
      "outputs": []
    }
  ]
}